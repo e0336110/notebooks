{
 "cells": [
  {
   "cell_type": "code",
   "execution_count": 1,
   "id": "88c2bbbe",
   "metadata": {},
   "outputs": [],
   "source": [
    "dataset = \"purchase100\"\n",
    "algorithm = \"natural\""
   ]
  },
  {
   "cell_type": "markdown",
   "id": "e0665ea7",
   "metadata": {},
   "source": [
    "### 1. Load Dataset"
   ]
  },
  {
   "cell_type": "code",
   "execution_count": 2,
   "id": "32e937f1",
   "metadata": {},
   "outputs": [],
   "source": [
    "import numpy as np \n",
    "from art.utils import to_categorical\n",
    "\n",
    "x = []\n",
    "y = []\n",
    "\n",
    "with open(\"data/dataset_purchase\", \"r\") as f:\n",
    "    for datapoint in f.readlines(): \n",
    "        split = datapoint.rstrip().split(\",\")\n",
    "        label = int(split[0]) - 1\n",
    "        x.append([int(s) for s in split[1:]])\n",
    "        y.append(label)\n",
    "\n",
    "x = np.array(x).astype(np.float32)\n",
    "y = to_categorical(np.array(y), 100)\n",
    "\n",
    "target_train_size = 10000\n",
    "target_test_size = 10000\n",
    "x_target_train = x[:target_train_size]\n",
    "y_target_train = y[:target_train_size]\n",
    "x_target_test = x[target_train_size:target_train_size+target_test_size]\n",
    "y_target_test = y[target_train_size:target_train_size+target_test_size]"
   ]
  },
  {
   "cell_type": "markdown",
   "id": "0dfa1313",
   "metadata": {},
   "source": [
    "### 2. Define Target Model"
   ]
  },
  {
   "cell_type": "code",
   "execution_count": 3,
   "id": "df7910fd",
   "metadata": {},
   "outputs": [
    {
     "name": "stdout",
     "output_type": "stream",
     "text": [
      "----------------------------------------------------------------\n",
      "        Layer (type)               Output Shape         Param #\n",
      "================================================================\n",
      "            Linear-1                  [-1, 128]          76,928\n",
      "              ReLU-2                  [-1, 128]               0\n",
      "            Linear-3                  [-1, 100]          12,900\n",
      "================================================================\n",
      "Total params: 89,828\n",
      "Trainable params: 89,828\n",
      "Non-trainable params: 0\n",
      "----------------------------------------------------------------\n",
      "Input size (MB): 0.00\n",
      "Forward/backward pass size (MB): 0.00\n",
      "Params size (MB): 0.34\n",
      "Estimated Total Size (MB): 0.35\n",
      "----------------------------------------------------------------\n"
     ]
    }
   ],
   "source": [
    "from torch import nn\n",
    "from torchsummary import summary\n",
    "import math\n",
    "\n",
    "def purchase_model(): \n",
    "    model = nn.Sequential(            \n",
    "        nn.Linear(600, 128),\n",
    "        nn.ReLU(),\n",
    "        nn.Linear(128, 100)\n",
    "    )\n",
    "    return model\n",
    "\n",
    "summary(purchase_model(), input_size=x_target_train[0].shape)"
   ]
  },
  {
   "cell_type": "markdown",
   "id": "66db6326",
   "metadata": {},
   "source": [
    "### 3. Train Target Model"
   ]
  },
  {
   "cell_type": "code",
   "execution_count": 4,
   "id": "914176d6",
   "metadata": {},
   "outputs": [
    {
     "name": "stderr",
     "output_type": "stream",
     "text": [
      "100%|██████████| 100/100 [00:15<00:00,  6.25it/s]"
     ]
    },
    {
     "name": "stdout",
     "output_type": "stream",
     "text": [
      "Train accuracy: 1.0\n",
      "Test accuracy: 0.7144\n"
     ]
    },
    {
     "name": "stderr",
     "output_type": "stream",
     "text": [
      "\n"
     ]
    }
   ],
   "source": [
    "import torch\n",
    "from torch.utils.data import DataLoader\n",
    "from torch.utils.data.dataset import Dataset\n",
    "from tqdm import tqdm\n",
    "\n",
    "class PytorchDataset(Dataset):\n",
    "    def __init__(self, x, y):\n",
    "        self.x = torch.from_numpy(x)\n",
    "        self.y = torch.from_numpy(y)\n",
    "\n",
    "    def __len__(self):\n",
    "        return len(self.x)\n",
    "\n",
    "    def __getitem__(self, idx):\n",
    "        return self.x[idx], self.y[idx]\n",
    "\n",
    "def train(dataloader, model, loss_fn, optimizer):\n",
    "    for batch, (i_batch, o_batch) in enumerate(dataloader):\n",
    "        optimizer.zero_grad()\n",
    "        model_outputs = model(i_batch)\n",
    "        loss = loss_fn(model_outputs, o_batch)\n",
    "        loss.backward()\n",
    "        optimizer.step()\n",
    "\n",
    "def get_acc(model, x, y):\n",
    "    _, predictions = torch.max(model(torch.from_numpy(x)), 1)\n",
    "    acc = np.mean(predictions.detach().numpy() == np.argmax(y, axis=1))\n",
    "    return acc\n",
    "\n",
    "model = purchase_model()\n",
    "train_dataloader = DataLoader(PytorchDataset(x_target_train, y_target_train), batch_size=64, shuffle=True)\n",
    "loss_fn = nn.CrossEntropyLoss()\n",
    "optimizer = torch.optim.Adam(model.parameters())\n",
    "\n",
    "nb_epochs = 100\n",
    "best_acc = 0\n",
    "for i in tqdm(range(nb_epochs)):\n",
    "    model.train()\n",
    "    train(train_dataloader, model, loss_fn, optimizer)\n",
    "    model.eval()\n",
    "    test_acc = get_acc(model, x_target_test, y_target_test)\n",
    "    if test_acc > best_acc:\n",
    "        best_acc = test_acc\n",
    "        torch.save(model.state_dict(), f\"models/{dataset}_{algorithm}.pth\")\n",
    "\n",
    "# purposedly trained to overfit\n",
    "# model.load_state_dict(torch.load(f\"models/{dataset}_{algorithm}.pth\"))\n",
    "model.eval()\n",
    "print(\"Train accuracy:\", get_acc(model, x_target_train, y_target_train))\n",
    "print(\"Test accuracy:\", get_acc(model, x_target_test, y_target_test))"
   ]
  },
  {
   "cell_type": "markdown",
   "id": "a049c7c1",
   "metadata": {},
   "source": [
    "### 4. Generate Adversarial Examples using HopSkipJump"
   ]
  },
  {
   "cell_type": "code",
   "execution_count": 5,
   "id": "0b921a18",
   "metadata": {},
   "outputs": [
    {
     "data": {
      "application/vnd.jupyter.widget-view+json": {
       "model_id": "14993d4af5ed498f856c23368ee97392",
       "version_major": 2,
       "version_minor": 0
      },
      "text/plain": [
       "HopSkipJump:   0%|          | 0/100 [00:00<?, ?it/s]"
      ]
     },
     "metadata": {},
     "output_type": "display_data"
    },
    {
     "data": {
      "application/vnd.jupyter.widget-view+json": {
       "model_id": "651952f8e6374557905a3eeb48753954",
       "version_major": 2,
       "version_minor": 0
      },
      "text/plain": [
       "HopSkipJump:   0%|          | 0/100 [00:00<?, ?it/s]"
      ]
     },
     "metadata": {},
     "output_type": "display_data"
    }
   ],
   "source": [
    "from art.attacks.evasion import HopSkipJump\n",
    "from art.estimators.classification.pytorch import PyTorchClassifier\n",
    "from numpy.random import choice\n",
    "\n",
    "art_classifier=PyTorchClassifier(\n",
    "    model=model,\n",
    "    loss=loss_fn,\n",
    "    optimizer=optimizer,\n",
    "    input_shape=x_target_train[0].shape,\n",
    "    nb_classes=100,\n",
    ")\n",
    "attack = HopSkipJump(classifier=art_classifier, norm=2, targeted=False)\n",
    "\n",
    "train_idx = choice(len(x_target_train), 100)\n",
    "y_adv_train = y_target_train[train_idx]\n",
    "x_adv_train = attack.generate(x=x_target_train[train_idx], y=y_adv_train)\n",
    "\n",
    "test_idx = choice(len(x_target_test), 100)\n",
    "y_adv_test = y_target_test[test_idx]\n",
    "x_adv_test = attack.generate(x=x_target_test[test_idx], y=y_adv_test)"
   ]
  },
  {
   "cell_type": "markdown",
   "id": "c64326b2",
   "metadata": {},
   "source": [
    "### 5. Measure the Distribution of Distance to Decision Boundary"
   ]
  },
  {
   "cell_type": "code",
   "execution_count": 6,
   "id": "4e2a4898",
   "metadata": {},
   "outputs": [
    {
     "name": "stdout",
     "output_type": "stream",
     "text": [
      "                0\n",
      "count  100.000000\n",
      "mean     1.003538\n",
      "std      0.424873\n",
      "min      0.450365\n",
      "25%      0.700147\n",
      "50%      0.885912\n",
      "75%      1.230661\n",
      "max      2.293344\n",
      "                0\n",
      "count  100.000000\n",
      "mean     0.587243\n",
      "std      0.572043\n",
      "min      0.003505\n",
      "25%      0.173180\n",
      "50%      0.381079\n",
      "75%      0.865299\n",
      "max      2.595324\n"
     ]
    },
    {
     "data": {
      "image/png": "[encoded data removed]",
      "text/plain": [
       "<Figure size 432x288 with 1 Axes>"
      ]
     },
     "metadata": {
      "needs_background": "light"
     },
     "output_type": "display_data"
    }
   ],
   "source": [
    "from matplotlib import pyplot as plt\n",
    "import pandas as pd\n",
    "\n",
    "def dist(x, x_adv):\n",
    "    return np.linalg.norm(np.reshape(x_adv - x, [-1]))\n",
    "\n",
    "dist_train = [dist(x, xa) for (x, xa) in zip(x_target_train[train_idx], x_adv_train)]\n",
    "dist_test = [dist(x, xa) for (x, xa) in zip(x_target_test[test_idx], x_adv_test)]\n",
    "print(pd.DataFrame(np.array(dist_train)).describe())\n",
    "print(pd.DataFrame(np.array(dist_test)).describe())\n",
    "\n",
    "bins = [0, 0.25, 0.5, 0.75, 1.0, 1.25, 1.5, 1.75, 2, 2.25, 2.5, 2.75, 3, 3.25]\n",
    "\n",
    "plt.hist(dist_train, bins, alpha=0.5, label='member')\n",
    "plt.hist(dist_test, bins, alpha=0.5, label='non-member')\n",
    "plt.legend(loc='upper right')\n",
    "plt.title(f\"{dataset} - {algorithm}\")\n",
    "plt.xlabel(\"Distance to Decision Boundary in L2 Norm\")\n",
    "plt.ylabel(\"Frequency\")\n",
    "plt.show()"
   ]
  },
  {
   "cell_type": "markdown",
   "id": "fba80423",
   "metadata": {},
   "source": [
    "### 6. Measure the Advantage of An Adversary in Label-Only Membership Inference Attacks"
   ]
  },
  {
   "cell_type": "code",
   "execution_count": 7,
   "id": "ed0254bc",
   "metadata": {},
   "outputs": [
    {
     "name": "stdout",
     "output_type": "stream",
     "text": [
      "[0.   0.01 0.03 0.03 0.04 0.04 0.06 0.06 0.08 0.08 0.09 0.09 0.13 0.13\n",
      " 0.14 0.14 0.15 0.15 0.18 0.18 0.21 0.21 0.22 0.22 0.23 0.23 0.24 0.24\n",
      " 0.25 0.25 0.26 0.26 0.28 0.28 0.3  0.3  0.31 0.31 0.32 0.32 0.33 0.33\n",
      " 0.34 0.34 0.35 0.35 0.36 0.36 0.37 0.37 0.38 0.38 0.39 0.39 0.41 0.41\n",
      " 0.42 0.42 1.  ]\n",
      "[0.   0.   0.   0.03 0.03 0.09 0.09 0.11 0.11 0.17 0.17 0.18 0.18 0.21\n",
      " 0.21 0.3  0.3  0.33 0.33 0.37 0.37 0.38 0.38 0.46 0.46 0.48 0.48 0.52\n",
      " 0.52 0.54 0.54 0.57 0.57 0.64 0.64 0.66 0.66 0.72 0.72 0.75 0.75 0.79\n",
      " 0.79 0.82 0.82 0.83 0.83 0.84 0.84 0.89 0.89 0.91 0.91 0.95 0.95 0.97\n",
      " 0.97 1.   1.  ]\n",
      "[3.5953238e+00 2.5953238e+00 2.3667977e+00 2.1114755e+00 1.9886760e+00\n",
      " 1.7045516e+00 1.6310226e+00 1.5888982e+00 1.5635543e+00 1.4627988e+00\n",
      " 1.4586254e+00 1.4369433e+00 1.3725501e+00 1.3025683e+00 1.2649686e+00\n",
      " 1.1531690e+00 1.1156925e+00 1.0985700e+00 1.0786438e+00 1.0406933e+00\n",
      " 1.0165973e+00 1.0019702e+00 9.8227179e-01 9.4277436e-01 9.3930358e-01\n",
      " 9.1787386e-01 9.1550428e-01 8.7510127e-01 8.7355173e-01 8.6747074e-01\n",
      " 8.6254847e-01 8.1682497e-01 8.0792463e-01 7.6743704e-01 7.5293374e-01\n",
      " 7.3674923e-01 7.3622429e-01 7.2135627e-01 7.1940774e-01 7.0309424e-01\n",
      " 6.9669175e-01 6.4990067e-01 6.4767700e-01 6.3860375e-01 6.3812923e-01\n",
      " 6.3161492e-01 6.2851369e-01 6.2339848e-01 6.1657023e-01 6.0209310e-01\n",
      " 5.9331566e-01 5.7810646e-01 5.7260048e-01 5.2827621e-01 5.1774037e-01\n",
      " 5.0752902e-01 4.8744330e-01 4.5036545e-01 3.5046020e-03]\n"
     ]
    },
    {
     "data": {
      "image/png": "[encoded data removed]",
      "text/plain": [
       "<Figure size 432x288 with 1 Axes>"
      ]
     },
     "metadata": {
      "needs_background": "light"
     },
     "output_type": "display_data"
    }
   ],
   "source": [
    "from matplotlib import pyplot as plt\n",
    "from sklearn.metrics import RocCurveDisplay, roc_curve\n",
    "\n",
    "fpr, tpr, thresholds = roc_curve(\n",
    "    np.concatenate((np.ones(len(dist_train)), np.zeros(len(dist_test)))),\n",
    "    dist_train + dist_test\n",
    ")\n",
    "print(fpr)\n",
    "print(tpr)\n",
    "print(thresholds)\n",
    "\n",
    "RocCurveDisplay.from_predictions(\n",
    "    np.concatenate((np.ones(len(dist_train)), np.zeros(len(dist_test)))),\n",
    "    dist_train + dist_test\n",
    ")\n",
    "plt.title(f\"{dataset} - {algorithm}\")\n",
    "plt.xlabel(\"False Positive Rate\")\n",
    "plt.ylabel(\"True Positive Rate\")\n",
    "plt.show()"
   ]
  },
  {
   "cell_type": "markdown",
   "id": "2b9fb99d",
   "metadata": {},
   "source": [
    "### 7. Measure the Statistical Relationship between Distance to Decision Boundary and Confidence Scores"
   ]
  },
  {
   "cell_type": "code",
   "execution_count": 8,
   "id": "a2d563cf",
   "metadata": {},
   "outputs": [
    {
     "name": "stdout",
     "output_type": "stream",
     "text": [
      "train correlation  0.41386269522221436 1.8677597432893437e-05\n",
      "test correlation  0.4364855935870515 5.630110600867081e-06\n"
     ]
    }
   ],
   "source": [
    "from scipy.stats.stats import pearsonr\n",
    "import scipy\n",
    "\n",
    "confidence_train = [np.amax(scipy.special.softmax(p)) for p in art_classifier.predict(x_target_train[train_idx])]\n",
    "confidence_test = [np.amax(scipy.special.softmax(p)) for p in art_classifier.predict(x_target_test[test_idx])]\n",
    "\n",
    "corr, pvalue = pearsonr(confidence_train, dist_train)\n",
    "print(\"train correlation \", corr, pvalue)\n",
    "corr, pvalue = pearsonr(confidence_test, dist_test)\n",
    "print(\"test correlation \", corr, pvalue)"
   ]
  }
 ],
 "metadata": {
  "kernelspec": {
   "display_name": "Python 3 (ipykernel)",
   "language": "python",
   "name": "python3"
  },
  "language_info": {
   "codemirror_mode": {
    "name": "ipython",
    "version": 3
   },
   "file_extension": ".py",
   "mimetype": "text/x-python",
   "name": "python",
   "nbconvert_exporter": "python",
   "pygments_lexer": "ipython3",
   "version": "3.8.11"
  }
 },
 "nbformat": 4,
 "nbformat_minor": 5
}
