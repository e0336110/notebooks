{
 "cells": [
  {
   "cell_type": "code",
   "execution_count": 1,
   "id": "88c2bbbe",
   "metadata": {},
   "outputs": [],
   "source": [
    "dataset = \"cifar10\"\n",
    "algorithm = \"natural\""
   ]
  },
  {
   "cell_type": "markdown",
   "id": "e0665ea7",
   "metadata": {},
   "source": [
    "### 1. Load Dataset"
   ]
  },
  {
   "cell_type": "code",
   "execution_count": 2,
   "id": "32e937f1",
   "metadata": {},
   "outputs": [],
   "source": [
    "from art.utils import load_cifar10\n",
    "import numpy as np\n",
    "\n",
    "(_x1, _y1), (_x2, _y2), _min, _max = load_cifar10()\n",
    "x = np.concatenate((_x1, _x2))\n",
    "y = np.concatenate((_y1, _y2))\n",
    "\n",
    "# Swap axes to PyTorch's NCHW format\n",
    "x = np.transpose(x, (0, 3, 1, 2)).astype(np.float32)\n",
    "\n",
    "target_train_size = 2500\n",
    "target_test_size = 2500\n",
    "x_target_train = x[:target_train_size]\n",
    "y_target_train = y[:target_train_size]\n",
    "x_target_test = x[target_train_size:target_train_size+target_test_size]\n",
    "y_target_test = y[target_train_size:target_train_size+target_test_size]"
   ]
  },
  {
   "cell_type": "markdown",
   "id": "0dfa1313",
   "metadata": {},
   "source": [
    "### 2. Define Target Model"
   ]
  },
  {
   "cell_type": "code",
   "execution_count": 3,
   "id": "df7910fd",
   "metadata": {},
   "outputs": [
    {
     "name": "stdout",
     "output_type": "stream",
     "text": [
      "----------------------------------------------------------------\n",
      "        Layer (type)               Output Shape         Param #\n",
      "================================================================\n",
      "            Conv2d-1           [-1, 16, 16, 16]             784\n",
      "              ReLU-2           [-1, 16, 16, 16]               0\n",
      "            Conv2d-3             [-1, 32, 8, 8]           8,224\n",
      "              ReLU-4             [-1, 32, 8, 8]               0\n",
      "           Flatten-5                 [-1, 2048]               0\n",
      "            Linear-6                  [-1, 100]         204,900\n",
      "              ReLU-7                  [-1, 100]               0\n",
      "            Linear-8                   [-1, 10]           1,010\n",
      "================================================================\n",
      "Total params: 214,918\n",
      "Trainable params: 214,918\n",
      "Non-trainable params: 0\n",
      "----------------------------------------------------------------\n",
      "Input size (MB): 0.01\n",
      "Forward/backward pass size (MB): 0.11\n",
      "Params size (MB): 0.82\n",
      "Estimated Total Size (MB): 0.94\n",
      "----------------------------------------------------------------\n"
     ]
    }
   ],
   "source": [
    "from torch import nn\n",
    "from torchsummary import summary\n",
    "import math\n",
    "\n",
    "def cifar_model(): \n",
    "    model = nn.Sequential(\n",
    "        nn.Conv2d(3, 16, 4, stride=2, padding=1),\n",
    "        nn.ReLU(),\n",
    "        nn.Conv2d(16, 32, 4, stride=2, padding=1),\n",
    "        nn.ReLU(),\n",
    "        nn.Flatten(),\n",
    "        nn.Linear(32*8*8,100),\n",
    "        nn.ReLU(),\n",
    "        nn.Linear(100, 10)\n",
    "    )\n",
    "    for m in model.modules():\n",
    "        if isinstance(m, nn.Conv2d):\n",
    "            n = m.kernel_size[0] * m.kernel_size[1] * m.out_channels\n",
    "            m.weight.data.normal_(0, math.sqrt(2. / n))\n",
    "            m.bias.data.zero_()\n",
    "    return model\n",
    "\n",
    "summary(cifar_model(), input_size=x_target_train[0].shape)"
   ]
  },
  {
   "cell_type": "markdown",
   "id": "66db6326",
   "metadata": {},
   "source": [
    "### 3. Train Target Model"
   ]
  },
  {
   "cell_type": "code",
   "execution_count": 4,
   "id": "914176d6",
   "metadata": {},
   "outputs": [
    {
     "name": "stderr",
     "output_type": "stream",
     "text": [
      "100%|██████████| 100/100 [00:24<00:00,  4.06it/s]"
     ]
    },
    {
     "name": "stdout",
     "output_type": "stream",
     "text": [
      "Train accuracy: 1.0\n",
      "Test accuracy: 0.4232\n"
     ]
    },
    {
     "name": "stderr",
     "output_type": "stream",
     "text": [
      "\n"
     ]
    }
   ],
   "source": [
    "import torch\n",
    "from torch.utils.data import DataLoader\n",
    "from torch.utils.data.dataset import Dataset\n",
    "from tqdm import tqdm\n",
    "\n",
    "class PytorchDataset(Dataset):\n",
    "    def __init__(self, x, y):\n",
    "        self.x = torch.from_numpy(x)\n",
    "        self.y = torch.from_numpy(y)\n",
    "\n",
    "    def __len__(self):\n",
    "        return len(self.x)\n",
    "\n",
    "    def __getitem__(self, idx):\n",
    "        return self.x[idx], self.y[idx]\n",
    "\n",
    "def train(dataloader, model, loss_fn, optimizer):\n",
    "    for batch, (i_batch, o_batch) in enumerate(dataloader):\n",
    "        optimizer.zero_grad()\n",
    "        model_outputs = model(i_batch)\n",
    "        loss = loss_fn(model_outputs, o_batch)\n",
    "        loss.backward()\n",
    "        optimizer.step()\n",
    "\n",
    "def get_acc(model, x, y):\n",
    "    _, predictions = torch.max(model(torch.from_numpy(x)), 1)\n",
    "    acc = np.mean(predictions.detach().numpy() == np.argmax(y, axis=1))\n",
    "    return acc\n",
    "\n",
    "model = cifar_model()\n",
    "train_dataloader = DataLoader(PytorchDataset(x_target_train, y_target_train), batch_size=64, shuffle=True)\n",
    "loss_fn = nn.CrossEntropyLoss()\n",
    "optimizer = torch.optim.Adam(model.parameters())\n",
    "\n",
    "nb_epochs = 100\n",
    "best_acc = 0\n",
    "for i in tqdm(range(nb_epochs)):\n",
    "    model.train()\n",
    "    train(train_dataloader, model, loss_fn, optimizer)\n",
    "    model.eval()\n",
    "    test_acc = get_acc(model, x_target_test, y_target_test)\n",
    "    if test_acc > best_acc:\n",
    "        best_acc = test_acc\n",
    "        torch.save(model.state_dict(), f\"models/{dataset}_{algorithm}.pth\")\n",
    "\n",
    "# purposedly trained to overfit\n",
    "# model.load_state_dict(torch.load(f\"models/{dataset}_{algorithm}.pth\"))\n",
    "model.eval()\n",
    "print(\"Train accuracy:\", get_acc(model, x_target_train, y_target_train))\n",
    "print(\"Test accuracy:\", get_acc(model, x_target_test, y_target_test))"
   ]
  },
  {
   "cell_type": "markdown",
   "id": "a049c7c1",
   "metadata": {},
   "source": [
    "### 4. Generate Adversarial Examples using HopSkipJump"
   ]
  },
  {
   "cell_type": "code",
   "execution_count": 5,
   "id": "0b921a18",
   "metadata": {},
   "outputs": [
    {
     "data": {
      "application/vnd.jupyter.widget-view+json": {
       "model_id": "bf50389b49df43e8b996309b0873346a",
       "version_major": 2,
       "version_minor": 0
      },
      "text/plain": [
       "HopSkipJump:   0%|          | 0/100 [00:00<?, ?it/s]"
      ]
     },
     "metadata": {},
     "output_type": "display_data"
    },
    {
     "data": {
      "application/vnd.jupyter.widget-view+json": {
       "model_id": "65f39004adf34086afe75f24240cdf4e",
       "version_major": 2,
       "version_minor": 0
      },
      "text/plain": [
       "HopSkipJump:   0%|          | 0/100 [00:00<?, ?it/s]"
      ]
     },
     "metadata": {},
     "output_type": "display_data"
    }
   ],
   "source": [
    "from art.attacks.evasion import HopSkipJump\n",
    "from art.estimators.classification.pytorch import PyTorchClassifier\n",
    "from numpy.random import choice\n",
    "\n",
    "art_classifier=PyTorchClassifier(\n",
    "    model=model,\n",
    "    clip_values=(_min, _max),\n",
    "    loss=loss_fn,\n",
    "    optimizer=optimizer,\n",
    "    input_shape=(3, 32, 32),\n",
    "    nb_classes=10,\n",
    ")\n",
    "attack = HopSkipJump(classifier=art_classifier, norm=2, targeted=False)\n",
    "\n",
    "train_idx = choice(len(x_target_train), 100)\n",
    "y_adv_train = y_target_train[train_idx]\n",
    "x_adv_train = attack.generate(x=x_target_train[train_idx], y=y_adv_train)\n",
    "\n",
    "test_idx = choice(len(x_target_test), 100)\n",
    "y_adv_test = y_target_test[test_idx]\n",
    "x_adv_test = attack.generate(x=x_target_test[test_idx], y=y_adv_test)"
   ]
  },
  {
   "cell_type": "markdown",
   "id": "c64326b2",
   "metadata": {},
   "source": [
    "### 5. Measure the Distribution of Distance to Decision Boundary"
   ]
  },
  {
   "cell_type": "code",
   "execution_count": 9,
   "id": "4e2a4898",
   "metadata": {},
   "outputs": [
    {
     "name": "stdout",
     "output_type": "stream",
     "text": [
      "                0\n",
      "count  100.000000\n",
      "mean     0.480345\n",
      "std      0.248615\n",
      "min      0.229948\n",
      "25%      0.309696\n",
      "50%      0.399258\n",
      "75%      0.596461\n",
      "max      1.651680\n",
      "                0\n",
      "count  100.000000\n",
      "mean     0.267604\n",
      "std      0.303730\n",
      "min      0.000127\n",
      "25%      0.070018\n",
      "50%      0.166280\n",
      "75%      0.342003\n",
      "max      1.740674\n"
     ]
    },
    {
     "data": {
      "image/png": "[encoded data removed]",
      "text/plain": [
       "<Figure size 432x288 with 1 Axes>"
      ]
     },
     "metadata": {
      "needs_background": "light"
     },
     "output_type": "display_data"
    }
   ],
   "source": [
    "from matplotlib import pyplot as plt\n",
    "import pandas as pd\n",
    "\n",
    "def dist(x, x_adv):\n",
    "    return np.linalg.norm(np.reshape(x_adv - x, [-1]))\n",
    "\n",
    "dist_train = [dist(x, xa) for (x, xa) in zip(x_target_train[train_idx], x_adv_train)]\n",
    "dist_test = [dist(x, xa) for (x, xa) in zip(x_target_test[test_idx], x_adv_test)]\n",
    "print(pd.DataFrame(np.array(dist_train)).describe())\n",
    "print(pd.DataFrame(np.array(dist_test)).describe())\n",
    "\n",
    "bins = [0, 0.25, 0.5, 0.75, 1.0, 1.25, 1.5, 1.75, 2, 2.25, 2.5, 2.75, 3, 3.25]\n",
    "\n",
    "plt.hist(dist_train, bins, alpha=0.5, label='member')\n",
    "plt.hist(dist_test, bins, alpha=0.5, label='non-member')\n",
    "plt.legend(loc='upper right')\n",
    "plt.title(f'{dataset} - {algorithm}')\n",
    "plt.xlabel(\"Distance to Decision Boundary in L2 Norm\")\n",
    "plt.ylabel(\"Frequency\")\n",
    "plt.show()"
   ]
  },
  {
   "cell_type": "markdown",
   "id": "fba80423",
   "metadata": {},
   "source": [
    "### 6. Measure the Advantage of An Adversary in Label-Only Membership Inference Attacks"
   ]
  },
  {
   "cell_type": "code",
   "execution_count": 10,
   "id": "ed0254bc",
   "metadata": {},
   "outputs": [
    {
     "name": "stdout",
     "output_type": "stream",
     "text": [
      "[0.   0.01 0.02 0.02 0.03 0.03 0.05 0.05 0.08 0.08 0.09 0.09 0.1  0.1\n",
      " 0.13 0.13 0.14 0.14 0.15 0.15 0.16 0.16 0.18 0.18 0.19 0.19 0.2  0.2\n",
      " 0.21 0.21 0.22 0.22 0.23 0.23 0.24 0.24 0.26 0.26 0.27 0.27 0.28 0.28\n",
      " 0.31 0.31 0.32 0.32 0.33 0.33 0.34 0.34 0.36 0.36 0.37 0.37 0.38 0.38\n",
      " 0.39 0.39 0.41 0.41 1.  ]\n",
      "[0.   0.   0.   0.1  0.1  0.11 0.11 0.12 0.12 0.13 0.13 0.15 0.15 0.17\n",
      " 0.17 0.22 0.22 0.24 0.24 0.27 0.27 0.38 0.38 0.44 0.44 0.47 0.47 0.57\n",
      " 0.57 0.58 0.58 0.59 0.59 0.61 0.61 0.62 0.62 0.66 0.66 0.67 0.67 0.71\n",
      " 0.71 0.81 0.81 0.85 0.85 0.86 0.86 0.9  0.9  0.91 0.91 0.94 0.94 0.96\n",
      " 0.96 0.98 0.98 1.   1.  ]\n",
      "[2.7406735e+00 1.7406735e+00 1.6792548e+00 8.2987738e-01 8.1979167e-01\n",
      " 8.0184108e-01 7.9194880e-01 7.8997093e-01 7.3133993e-01 7.1276718e-01\n",
      " 7.0329589e-01 6.8725091e-01 6.7483419e-01 6.6727954e-01 6.4752203e-01\n",
      " 6.1908585e-01 6.1608160e-01 6.0311109e-01 6.0204130e-01 5.8551282e-01\n",
      " 5.5983454e-01 4.7601596e-01 4.6485838e-01 4.3085149e-01 4.2826089e-01\n",
      " 4.1674086e-01 4.1144118e-01 3.8114116e-01 3.8011798e-01 3.7832201e-01\n",
      " 3.7783730e-01 3.7248558e-01 3.6799341e-01 3.5634837e-01 3.5516179e-01\n",
      " 3.5427102e-01 3.4038442e-01 3.3925763e-01 3.3595321e-01 3.3536020e-01\n",
      " 3.3373260e-01 3.2797354e-01 3.2269320e-01 2.9603541e-01 2.8869349e-01\n",
      " 2.7986556e-01 2.7975744e-01 2.7826357e-01 2.7578652e-01 2.6908416e-01\n",
      " 2.6643082e-01 2.6530319e-01 2.5720459e-01 2.5264290e-01 2.5174242e-01\n",
      " 2.5108537e-01 2.4415261e-01 2.4270123e-01 2.4075300e-01 2.2994781e-01\n",
      " 1.2666691e-04]\n"
     ]
    },
    {
     "data": {
      "image/png": "[encoded data removed]",
      "text/plain": [
       "<Figure size 432x288 with 1 Axes>"
      ]
     },
     "metadata": {
      "needs_background": "light"
     },
     "output_type": "display_data"
    }
   ],
   "source": [
    "from matplotlib import pyplot as plt\n",
    "from sklearn.metrics import RocCurveDisplay, roc_curve\n",
    "\n",
    "fpr, tpr, thresholds = roc_curve(\n",
    "    np.concatenate((np.ones(len(dist_train)), np.zeros(len(dist_test)))),\n",
    "    dist_train + dist_test\n",
    ")\n",
    "print(fpr)\n",
    "print(tpr)\n",
    "print(thresholds)\n",
    "\n",
    "RocCurveDisplay.from_predictions(\n",
    "    np.concatenate((np.ones(len(dist_train)), np.zeros(len(dist_test)))),\n",
    "    dist_train + dist_test\n",
    ")\n",
    "plt.title(f'{dataset} - {algorithm}')\n",
    "plt.xlabel(\"False Positive Rate\")\n",
    "plt.ylabel(\"True Positive Rate\")\n",
    "plt.show()"
   ]
  },
  {
   "cell_type": "markdown",
   "id": "2b9fb99d",
   "metadata": {},
   "source": [
    "### 7. Measure the Statistical Relationship between Distance to Decision Boundary and Confidence Scores"
   ]
  },
  {
   "cell_type": "code",
   "execution_count": 8,
   "id": "a2d563cf",
   "metadata": {},
   "outputs": [
    {
     "name": "stdout",
     "output_type": "stream",
     "text": [
      "train correlation  0.4739982211398746 6.313553345869942e-07\n",
      "test correlation  0.5486699574556433 3.4240820251876714e-09\n"
     ]
    }
   ],
   "source": [
    "from scipy.stats.stats import pearsonr\n",
    "import scipy\n",
    "\n",
    "confidence_train = [np.amax(scipy.special.softmax(p)) for p in art_classifier.predict(x_target_train[train_idx])]\n",
    "confidence_test = [np.amax(scipy.special.softmax(p)) for p in art_classifier.predict(x_target_test[test_idx])]\n",
    "\n",
    "corr, pvalue = pearsonr(confidence_train, dist_train)\n",
    "print(\"train correlation \", corr, pvalue)\n",
    "corr, pvalue = pearsonr(confidence_test, dist_test)\n",
    "print(\"test correlation \", corr, pvalue)"
   ]
  }
 ],
 "metadata": {
  "kernelspec": {
   "display_name": "Python 3 (ipykernel)",
   "language": "python",
   "name": "python3"
  },
  "language_info": {
   "codemirror_mode": {
    "name": "ipython",
    "version": 3
   },
   "file_extension": ".py",
   "mimetype": "text/x-python",
   "name": "python",
   "nbconvert_exporter": "python",
   "pygments_lexer": "ipython3",
   "version": "3.8.11"
  }
 },
 "nbformat": 4,
 "nbformat_minor": 5
}
