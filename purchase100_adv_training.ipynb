{
 "cells": [
  {
   "cell_type": "code",
   "execution_count": 1,
   "id": "88c2bbbe",
   "metadata": {},
   "outputs": [],
   "source": [
    "dataset = \"purchase100\"\n",
    "algorithm = \"adversarial training\""
   ]
  },
  {
   "cell_type": "markdown",
   "id": "e0665ea7",
   "metadata": {},
   "source": [
    "### 1. Load Dataset"
   ]
  },
  {
   "cell_type": "code",
   "execution_count": 2,
   "id": "32e937f1",
   "metadata": {},
   "outputs": [],
   "source": [
    "import numpy as np \n",
    "from art.utils import to_categorical\n",
    "\n",
    "x = []\n",
    "y = []\n",
    "\n",
    "with open(\"data/dataset_purchase\", \"r\") as f:\n",
    "    for datapoint in f.readlines(): \n",
    "        split = datapoint.rstrip().split(\",\")\n",
    "        label = int(split[0]) - 1\n",
    "        x.append([int(s) for s in split[1:]])\n",
    "        y.append(label)\n",
    "\n",
    "x = np.array(x).astype(np.float32)\n",
    "y = to_categorical(np.array(y), 100)\n",
    "\n",
    "target_train_size = 10000\n",
    "target_test_size = 10000\n",
    "x_target_train = x[:target_train_size]\n",
    "y_target_train = y[:target_train_size]\n",
    "x_target_test = x[target_train_size:target_train_size+target_test_size]\n",
    "y_target_test = y[target_train_size:target_train_size+target_test_size]"
   ]
  },
  {
   "cell_type": "markdown",
   "id": "0dfa1313",
   "metadata": {},
   "source": [
    "### 2. Define Target Model"
   ]
  },
  {
   "cell_type": "code",
   "execution_count": 3,
   "id": "df7910fd",
   "metadata": {},
   "outputs": [
    {
     "name": "stdout",
     "output_type": "stream",
     "text": [
      "----------------------------------------------------------------\n",
      "        Layer (type)               Output Shape         Param #\n",
      "================================================================\n",
      "            Linear-1                  [-1, 128]          76,928\n",
      "              ReLU-2                  [-1, 128]               0\n",
      "            Linear-3                  [-1, 100]          12,900\n",
      "================================================================\n",
      "Total params: 89,828\n",
      "Trainable params: 89,828\n",
      "Non-trainable params: 0\n",
      "----------------------------------------------------------------\n",
      "Input size (MB): 0.00\n",
      "Forward/backward pass size (MB): 0.00\n",
      "Params size (MB): 0.34\n",
      "Estimated Total Size (MB): 0.35\n",
      "----------------------------------------------------------------\n"
     ]
    }
   ],
   "source": [
    "from torch import nn\n",
    "from torchsummary import summary\n",
    "import math\n",
    "\n",
    "def purchase_model(): \n",
    "    model = nn.Sequential(            \n",
    "        nn.Linear(600, 128),\n",
    "        nn.ReLU(),\n",
    "        nn.Linear(128, 100)\n",
    "    )\n",
    "    return model\n",
    "\n",
    "summary(purchase_model(), input_size=x_target_train[0].shape)"
   ]
  },
  {
   "cell_type": "markdown",
   "id": "66db6326",
   "metadata": {},
   "source": [
    "### 3. Train Target Model"
   ]
  },
  {
   "cell_type": "code",
   "execution_count": 4,
   "id": "914176d6",
   "metadata": {},
   "outputs": [
    {
     "data": {
      "application/vnd.jupyter.widget-view+json": {
       "model_id": "fbd322e16350446495fa14ba38521b87",
       "version_major": 2,
       "version_minor": 0
      },
      "text/plain": [
       "Precompute adv samples:   0%|          | 0/1 [00:00<?, ?it/s]"
      ]
     },
     "metadata": {},
     "output_type": "display_data"
    },
    {
     "data": {
      "application/vnd.jupyter.widget-view+json": {
       "model_id": "cd91d3b2824c43bc80d3e963c7873185",
       "version_major": 2,
       "version_minor": 0
      },
      "text/plain": [
       "Adversarial training epochs:   0%|          | 0/100 [00:00<?, ?it/s]"
      ]
     },
     "metadata": {},
     "output_type": "display_data"
    },
    {
     "name": "stdout",
     "output_type": "stream",
     "text": [
      "Train accuracy: 1.0\n",
      "Test accuracy: 0.6684\n"
     ]
    }
   ],
   "source": [
    "import torch\n",
    "from art.attacks.evasion import ProjectedGradientDescent\n",
    "from art.defences.trainer import AdversarialTrainer\n",
    "from art.estimators.classification.pytorch import PyTorchClassifier\n",
    "\n",
    "def get_acc(model, x, y):\n",
    "    _, predictions = torch.max(model(torch.from_numpy(x)), 1)\n",
    "    acc = np.mean(predictions.detach().numpy() == np.argmax(y, axis=1))\n",
    "    return acc\n",
    "\n",
    "model = purchase_model()\n",
    "loss_fn = nn.CrossEntropyLoss()\n",
    "optimizer = torch.optim.Adam(model.parameters())\n",
    "\n",
    "art_classifier=PyTorchClassifier(\n",
    "    model=model,\n",
    "    loss=loss_fn,\n",
    "    optimizer=optimizer,\n",
    "    input_shape=(3, 32, 32),\n",
    "    nb_classes=10,\n",
    ")\n",
    "pgd = ProjectedGradientDescent(art_classifier, norm=2, eps=0.25, eps_step=0.01, max_iter=40)\n",
    "trainer = AdversarialTrainer(art_classifier, pgd, ratio=0.5)\n",
    "trainer.fit(x_target_train, y_target_train, nb_epochs=100, batch_size=64)\n",
    "\n",
    "model.eval()\n",
    "print(\"Train accuracy:\", get_acc(model, x_target_train, y_target_train))\n",
    "print(\"Test accuracy:\", get_acc(model, x_target_test, y_target_test))"
   ]
  },
  {
   "cell_type": "markdown",
   "id": "a049c7c1",
   "metadata": {},
   "source": [
    "### 4. Generate Adversarial Examples using HopSkipJump"
   ]
  },
  {
   "cell_type": "code",
   "execution_count": 5,
   "id": "0b921a18",
   "metadata": {},
   "outputs": [
    {
     "data": {
      "application/vnd.jupyter.widget-view+json": {
       "model_id": "0897379e8561411781ffc1bafc82650b",
       "version_major": 2,
       "version_minor": 0
      },
      "text/plain": [
       "HopSkipJump:   0%|          | 0/100 [00:00<?, ?it/s]"
      ]
     },
     "metadata": {},
     "output_type": "display_data"
    },
    {
     "data": {
      "application/vnd.jupyter.widget-view+json": {
       "model_id": "711801874d0d4c2d82a98a358a148336",
       "version_major": 2,
       "version_minor": 0
      },
      "text/plain": [
       "HopSkipJump:   0%|          | 0/100 [00:00<?, ?it/s]"
      ]
     },
     "metadata": {},
     "output_type": "display_data"
    }
   ],
   "source": [
    "from art.attacks.evasion import HopSkipJump\n",
    "from art.estimators.classification.pytorch import PyTorchClassifier\n",
    "from numpy.random import choice\n",
    "\n",
    "art_classifier=PyTorchClassifier(\n",
    "    model=model,\n",
    "    loss=loss_fn,\n",
    "    optimizer=optimizer,\n",
    "    input_shape=x_target_train[0].shape,\n",
    "    nb_classes=100,\n",
    ")\n",
    "attack = HopSkipJump(classifier=art_classifier, norm=2, targeted=False)\n",
    "\n",
    "train_idx = choice(len(x_target_train), 100)\n",
    "y_adv_train = y_target_train[train_idx]\n",
    "x_adv_train = attack.generate(x=x_target_train[train_idx], y=y_adv_train)\n",
    "\n",
    "test_idx = choice(len(x_target_test), 100)\n",
    "y_adv_test = y_target_test[test_idx]\n",
    "x_adv_test = attack.generate(x=x_target_test[test_idx], y=y_adv_test)"
   ]
  },
  {
   "cell_type": "markdown",
   "id": "c64326b2",
   "metadata": {},
   "source": [
    "### 5. Measure the Distribution of Distance to Decision Boundary"
   ]
  },
  {
   "cell_type": "code",
   "execution_count": 6,
   "id": "4e2a4898",
   "metadata": {},
   "outputs": [
    {
     "name": "stdout",
     "output_type": "stream",
     "text": [
      "                0\n",
      "count  100.000000\n",
      "mean     1.108471\n",
      "std      0.518651\n",
      "min      0.562692\n",
      "25%      0.789598\n",
      "50%      0.937980\n",
      "75%      1.230789\n",
      "max      3.822147\n",
      "                0\n",
      "count  100.000000\n",
      "mean     0.709822\n",
      "std      0.673829\n",
      "min      0.009014\n",
      "25%      0.191996\n",
      "50%      0.483647\n",
      "75%      1.058957\n",
      "max      2.844976\n"
     ]
    },
    {
     "data": {
      "image/png": "[encoded data removed]",
      "text/plain": [
       "<Figure size 432x288 with 1 Axes>"
      ]
     },
     "metadata": {
      "needs_background": "light"
     },
     "output_type": "display_data"
    }
   ],
   "source": [
    "from matplotlib import pyplot as plt\n",
    "import pandas as pd\n",
    "\n",
    "def dist(x, x_adv):\n",
    "    return np.linalg.norm(np.reshape(x_adv - x, [-1]))\n",
    "\n",
    "dist_train = [dist(x, xa) for (x, xa) in zip(x_target_train[train_idx], x_adv_train)]\n",
    "dist_test = [dist(x, xa) for (x, xa) in zip(x_target_test[test_idx], x_adv_test)]\n",
    "print(pd.DataFrame(np.array(dist_train)).describe())\n",
    "print(pd.DataFrame(np.array(dist_test)).describe())\n",
    "\n",
    "bins = [0, 0.25, 0.5, 0.75, 1.0, 1.25, 1.5, 1.75, 2, 2.25, 2.5, 2.75, 3, 3.25]\n",
    "\n",
    "plt.hist(dist_train, bins, alpha=0.5, label='member')\n",
    "plt.hist(dist_test, bins, alpha=0.5, label='non-member')\n",
    "plt.legend(loc='upper right')\n",
    "plt.title(f'{dataset} - {algorithm}')\n",
    "plt.xlabel(\"Distance to Decision Boundary in L2 Norm\")\n",
    "plt.ylabel(\"Frequency\")\n",
    "plt.show()"
   ]
  },
  {
   "cell_type": "markdown",
   "id": "fba80423",
   "metadata": {},
   "source": [
    "### 6. Measure the Advantage of An Adversary in Label-Only Membership Inference Attacks"
   ]
  },
  {
   "cell_type": "code",
   "execution_count": 7,
   "id": "ed0254bc",
   "metadata": {},
   "outputs": [
    {
     "name": "stdout",
     "output_type": "stream",
     "text": [
      "[0.   0.   0.01 0.01 0.04 0.04 0.06 0.06 0.08 0.08 0.09 0.09 0.1  0.1\n",
      " 0.12 0.12 0.13 0.13 0.14 0.14 0.17 0.17 0.18 0.18 0.19 0.19 0.2  0.2\n",
      " 0.21 0.21 0.23 0.23 0.24 0.24 0.25 0.25 0.29 0.29 0.32 0.32 0.33 0.33\n",
      " 0.34 0.34 0.35 0.35 0.38 0.38 0.4  0.4  0.41 0.41 0.42 0.42 0.43 0.43\n",
      " 0.45 0.45 0.46 0.46 1.  ]\n",
      "[0.   0.01 0.01 0.02 0.02 0.05 0.05 0.09 0.09 0.1  0.1  0.12 0.12 0.13\n",
      " 0.13 0.14 0.14 0.15 0.15 0.18 0.18 0.21 0.21 0.22 0.22 0.25 0.25 0.27\n",
      " 0.27 0.29 0.29 0.38 0.38 0.41 0.41 0.42 0.42 0.47 0.47 0.54 0.54 0.61\n",
      " 0.61 0.77 0.77 0.79 0.79 0.85 0.85 0.87 0.87 0.9  0.9  0.95 0.95 0.97\n",
      " 0.97 0.98 0.98 1.   1.  ]\n",
      "[4.8221474  3.8221474  2.8449762  2.829295   2.3800285  2.2991238\n",
      " 2.1405716  1.9520652  1.8850394  1.8049924  1.7873546  1.7140516\n",
      " 1.693899   1.6883422  1.5408459  1.5376383  1.5368844  1.5050483\n",
      " 1.5033109  1.4044358  1.3572716  1.325626   1.3225564  1.3191307\n",
      " 1.3095231  1.2508535  1.2397326  1.1963342  1.1897486  1.1772994\n",
      " 1.1671518  1.0996958  1.0910187  1.0658556  1.0617063  1.0605897\n",
      " 1.0334435  1.0154778  0.962003   0.92543936 0.92343795 0.8991952\n",
      " 0.8899628  0.77387935 0.77151036 0.7401289  0.7344754  0.7065074\n",
      " 0.6984384  0.695109   0.67966324 0.67077816 0.6686774  0.64473885\n",
      " 0.64167684 0.6141786  0.6116492  0.60235727 0.59466517 0.56269187\n",
      " 0.00901356]\n"
     ]
    },
    {
     "data": {
      "image/png": "[encoded data removed]",
      "text/plain": [
       "<Figure size 432x288 with 1 Axes>"
      ]
     },
     "metadata": {
      "needs_background": "light"
     },
     "output_type": "display_data"
    }
   ],
   "source": [
    "from matplotlib import pyplot as plt\n",
    "from sklearn.metrics import RocCurveDisplay, roc_curve\n",
    "\n",
    "fpr, tpr, thresholds = roc_curve(\n",
    "    np.concatenate((np.ones(len(dist_train)), np.zeros(len(dist_test)))),\n",
    "    dist_train + dist_test\n",
    ")\n",
    "print(fpr)\n",
    "print(tpr)\n",
    "print(thresholds)\n",
    "\n",
    "RocCurveDisplay.from_predictions(\n",
    "    np.concatenate((np.ones(len(dist_train)), np.zeros(len(dist_test)))),\n",
    "    dist_train + dist_test\n",
    ")\n",
    "plt.title(f'{dataset} - {algorithm}')\n",
    "plt.xlabel(\"False Positive Rate\")\n",
    "plt.ylabel(\"True Positive Rate\")\n",
    "plt.show()"
   ]
  },
  {
   "cell_type": "markdown",
   "id": "2b9fb99d",
   "metadata": {},
   "source": [
    "### 7. Measure the Statistical Relationship between Distance to Decision Boundary and Confidence Scores"
   ]
  },
  {
   "cell_type": "code",
   "execution_count": 8,
   "id": "a2d563cf",
   "metadata": {},
   "outputs": [
    {
     "name": "stdout",
     "output_type": "stream",
     "text": [
      "train correlation  0.21883313629250517 0.028713046306839\n",
      "test correlation  0.5648416408256886 9.27324701722077e-10\n"
     ]
    }
   ],
   "source": [
    "from scipy.stats.stats import pearsonr\n",
    "import scipy\n",
    "\n",
    "confidence_train = [np.amax(scipy.special.softmax(p)) for p in art_classifier.predict(x_target_train[train_idx])]\n",
    "confidence_test = [np.amax(scipy.special.softmax(p)) for p in art_classifier.predict(x_target_test[test_idx])]\n",
    "\n",
    "corr, pvalue = pearsonr(confidence_train, dist_train)\n",
    "print(\"train correlation \", corr, pvalue)\n",
    "corr, pvalue = pearsonr(confidence_test, dist_test)\n",
    "print(\"test correlation \", corr, pvalue)"
   ]
  }
 ],
 "metadata": {
  "kernelspec": {
   "display_name": "Python 3 (ipykernel)",
   "language": "python",
   "name": "python3"
  },
  "language_info": {
   "codemirror_mode": {
    "name": "ipython",
    "version": 3
   },
   "file_extension": ".py",
   "mimetype": "text/x-python",
   "name": "python",
   "nbconvert_exporter": "python",
   "pygments_lexer": "ipython3",
   "version": "3.8.11"
  }
 },
 "nbformat": 4,
 "nbformat_minor": 5
}
