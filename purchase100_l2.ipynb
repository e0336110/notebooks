{
 "cells": [
  {
   "cell_type": "code",
   "execution_count": 1,
   "id": "88c2bbbe",
   "metadata": {},
   "outputs": [],
   "source": [
    "dataset = \"purchase100\"\n",
    "algorithm = \"l2 regularization\""
   ]
  },
  {
   "cell_type": "markdown",
   "id": "e0665ea7",
   "metadata": {},
   "source": [
    "### 1. Load Dataset"
   ]
  },
  {
   "cell_type": "code",
   "execution_count": 2,
   "id": "32e937f1",
   "metadata": {},
   "outputs": [],
   "source": [
    "import numpy as np \n",
    "from art.utils import to_categorical\n",
    "\n",
    "x = []\n",
    "y = []\n",
    "\n",
    "with open(\"data/dataset_purchase\", \"r\") as f:\n",
    "    for datapoint in f.readlines(): \n",
    "        split = datapoint.rstrip().split(\",\")\n",
    "        label = int(split[0]) - 1\n",
    "        x.append([int(s) for s in split[1:]])\n",
    "        y.append(label)\n",
    "\n",
    "x = np.array(x).astype(np.float32)\n",
    "y = to_categorical(np.array(y), 100)\n",
    "\n",
    "target_train_size = 10000\n",
    "target_test_size = 10000\n",
    "x_target_train = x[:target_train_size]\n",
    "y_target_train = y[:target_train_size]\n",
    "x_target_test = x[target_train_size:target_train_size+target_test_size]\n",
    "y_target_test = y[target_train_size:target_train_size+target_test_size]"
   ]
  },
  {
   "cell_type": "markdown",
   "id": "0dfa1313",
   "metadata": {},
   "source": [
    "### 2. Define Target Model"
   ]
  },
  {
   "cell_type": "code",
   "execution_count": 3,
   "id": "df7910fd",
   "metadata": {},
   "outputs": [
    {
     "name": "stdout",
     "output_type": "stream",
     "text": [
      "----------------------------------------------------------------\n",
      "        Layer (type)               Output Shape         Param #\n",
      "================================================================\n",
      "            Linear-1                  [-1, 128]          76,928\n",
      "              ReLU-2                  [-1, 128]               0\n",
      "            Linear-3                  [-1, 100]          12,900\n",
      "================================================================\n",
      "Total params: 89,828\n",
      "Trainable params: 89,828\n",
      "Non-trainable params: 0\n",
      "----------------------------------------------------------------\n",
      "Input size (MB): 0.00\n",
      "Forward/backward pass size (MB): 0.00\n",
      "Params size (MB): 0.34\n",
      "Estimated Total Size (MB): 0.35\n",
      "----------------------------------------------------------------\n"
     ]
    }
   ],
   "source": [
    "from torch import nn\n",
    "from torchsummary import summary\n",
    "import math\n",
    "\n",
    "def purchase_model(): \n",
    "    model = nn.Sequential(            \n",
    "        nn.Linear(600, 128),\n",
    "        nn.ReLU(),\n",
    "        nn.Linear(128, 100)\n",
    "    )\n",
    "    return model\n",
    "\n",
    "summary(purchase_model(), input_size=x_target_train[0].shape)"
   ]
  },
  {
   "cell_type": "markdown",
   "id": "66db6326",
   "metadata": {},
   "source": [
    "### 3. Train Target Model"
   ]
  },
  {
   "cell_type": "code",
   "execution_count": 4,
   "id": "914176d6",
   "metadata": {},
   "outputs": [
    {
     "name": "stderr",
     "output_type": "stream",
     "text": [
      "100%|██████████| 100/100 [00:22<00:00,  4.46it/s]"
     ]
    },
    {
     "name": "stdout",
     "output_type": "stream",
     "text": [
      "Train accuracy: 0.392\n",
      "Test accuracy: 0.3755\n"
     ]
    },
    {
     "name": "stderr",
     "output_type": "stream",
     "text": [
      "\n"
     ]
    }
   ],
   "source": [
    "import torch\n",
    "from torch.utils.data import DataLoader\n",
    "from torch.utils.data.dataset import Dataset\n",
    "from tqdm import tqdm\n",
    "\n",
    "class PytorchDataset(Dataset):\n",
    "    def __init__(self, x, y):\n",
    "        self.x = torch.from_numpy(x)\n",
    "        self.y = torch.from_numpy(y)\n",
    "\n",
    "    def __len__(self):\n",
    "        return len(self.x)\n",
    "\n",
    "    def __getitem__(self, idx):\n",
    "        return self.x[idx], self.y[idx]\n",
    "\n",
    "def train(dataloader, model, loss_fn, optimizer):\n",
    "    for batch, (i_batch, o_batch) in enumerate(dataloader):\n",
    "        optimizer.zero_grad()\n",
    "        model_outputs = model(i_batch)\n",
    "        loss = loss_fn(model_outputs, o_batch)\n",
    "        loss.backward()\n",
    "        optimizer.step()\n",
    "\n",
    "def get_acc(model, x, y):\n",
    "    _, predictions = torch.max(model(torch.from_numpy(x)), 1)\n",
    "    acc = np.mean(predictions.detach().numpy() == np.argmax(y, axis=1))\n",
    "    return acc\n",
    "\n",
    "model = purchase_model()\n",
    "train_dataloader = DataLoader(PytorchDataset(x_target_train, y_target_train), batch_size=64, shuffle=True)\n",
    "loss_fn = nn.CrossEntropyLoss()\n",
    "optimizer = torch.optim.Adam(model.parameters(), lr=0.001, weight_decay=0.05)\n",
    "\n",
    "nb_epochs = 100\n",
    "best_acc = 0\n",
    "for i in tqdm(range(nb_epochs)):\n",
    "    model.train()\n",
    "    train(train_dataloader, model, loss_fn, optimizer)\n",
    "    model.eval()\n",
    "    test_acc = get_acc(model, x_target_test, y_target_test)\n",
    "    if test_acc > best_acc:\n",
    "        best_acc = test_acc\n",
    "        torch.save(model.state_dict(), f\"models/{dataset}_{algorithm}.pth\")\n",
    "\n",
    "# load best model\n",
    "# model.load_state_dict(torch.load(f\"models/{dataset}_{algorithm}.pth\"))\n",
    "model.eval()\n",
    "print(\"Train accuracy:\", get_acc(model, x_target_train, y_target_train))\n",
    "print(\"Test accuracy:\", get_acc(model, x_target_test, y_target_test))"
   ]
  },
  {
   "cell_type": "markdown",
   "id": "a049c7c1",
   "metadata": {},
   "source": [
    "### 4. Generate Adversarial Examples using HopSkipJump"
   ]
  },
  {
   "cell_type": "code",
   "execution_count": 5,
   "id": "0b921a18",
   "metadata": {},
   "outputs": [
    {
     "data": {
      "application/vnd.jupyter.widget-view+json": {
       "model_id": "87233e944e004b6bbbf2334efeada743",
       "version_major": 2,
       "version_minor": 0
      },
      "text/plain": [
       "HopSkipJump:   0%|          | 0/100 [00:00<?, ?it/s]"
      ]
     },
     "metadata": {},
     "output_type": "display_data"
    },
    {
     "data": {
      "application/vnd.jupyter.widget-view+json": {
       "model_id": "5ab52124f6ab427389b6b449371d44c2",
       "version_major": 2,
       "version_minor": 0
      },
      "text/plain": [
       "HopSkipJump:   0%|          | 0/100 [00:00<?, ?it/s]"
      ]
     },
     "metadata": {},
     "output_type": "display_data"
    }
   ],
   "source": [
    "from art.attacks.evasion import HopSkipJump\n",
    "from art.estimators.classification.pytorch import PyTorchClassifier\n",
    "from numpy.random import choice\n",
    "\n",
    "art_classifier=PyTorchClassifier(\n",
    "    model=model,\n",
    "    loss=loss_fn,\n",
    "    optimizer=optimizer,\n",
    "    input_shape=x_target_train[0].shape,\n",
    "    nb_classes=100,\n",
    ")\n",
    "attack = HopSkipJump(classifier=art_classifier, norm=2, targeted=False)\n",
    "\n",
    "train_idx = choice(len(x_target_train), 100)\n",
    "y_adv_train = y_target_train[train_idx]\n",
    "x_adv_train = attack.generate(x=x_target_train[train_idx], y=y_adv_train)\n",
    "\n",
    "test_idx = choice(len(x_target_test), 100)\n",
    "y_adv_test = y_target_test[test_idx]\n",
    "x_adv_test = attack.generate(x=x_target_test[test_idx], y=y_adv_test)"
   ]
  },
  {
   "cell_type": "markdown",
   "id": "c64326b2",
   "metadata": {},
   "source": [
    "### 5. Measure the Distribution of Distance to Decision Boundary"
   ]
  },
  {
   "cell_type": "code",
   "execution_count": 6,
   "id": "4e2a4898",
   "metadata": {},
   "outputs": [
    {
     "name": "stdout",
     "output_type": "stream",
     "text": [
      "                0\n",
      "count  100.000000\n",
      "mean     0.862833\n",
      "std      0.816342\n",
      "min      0.000000\n",
      "25%      0.210890\n",
      "50%      0.606003\n",
      "75%      1.275564\n",
      "max      3.619155\n",
      "                0\n",
      "count  100.000000\n",
      "mean     0.651183\n",
      "std      0.657616\n",
      "min      0.000000\n",
      "25%      0.158780\n",
      "50%      0.443432\n",
      "75%      0.968626\n",
      "max      2.989302\n"
     ]
    },
    {
     "data": {
      "image/png": "[encoded data removed]",
      "text/plain": [
       "<Figure size 432x288 with 1 Axes>"
      ]
     },
     "metadata": {
      "needs_background": "light"
     },
     "output_type": "display_data"
    }
   ],
   "source": [
    "from matplotlib import pyplot as plt\n",
    "import pandas as pd\n",
    "\n",
    "def dist(x, x_adv):\n",
    "    return np.linalg.norm(np.reshape(x_adv - x, [-1]))\n",
    "\n",
    "dist_train = [dist(x, xa) for (x, xa) in zip(x_target_train[train_idx], x_adv_train)]\n",
    "dist_test = [dist(x, xa) for (x, xa) in zip(x_target_test[test_idx], x_adv_test)]\n",
    "print(pd.DataFrame(np.array(dist_train)).describe())\n",
    "print(pd.DataFrame(np.array(dist_test)).describe())\n",
    "\n",
    "bins = [0, 0.25, 0.5, 0.75, 1.0, 1.25, 1.5, 1.75, 2, 2.25, 2.5, 2.75, 3, 3.25]\n",
    "\n",
    "plt.hist(dist_train, bins, alpha=0.5, label='member')\n",
    "plt.hist(dist_test, bins, alpha=0.5, label='non-member')\n",
    "plt.legend(loc='upper right')\n",
    "plt.title(f'{dataset} - {algorithm}')\n",
    "plt.xlabel(\"Distance to Decision Boundary in L2 Norm\")\n",
    "plt.ylabel(\"Frequency\")\n",
    "plt.show()"
   ]
  },
  {
   "cell_type": "markdown",
   "id": "fba80423",
   "metadata": {},
   "source": [
    "### 6. Measure the Advantage of An Adversary in Label-Only Membership Inference Attacks"
   ]
  },
  {
   "cell_type": "code",
   "execution_count": 7,
   "id": "ed0254bc",
   "metadata": {},
   "outputs": [
    {
     "name": "stdout",
     "output_type": "stream",
     "text": [
      "[0.   0.   0.   0.01 0.01 0.02 0.02 0.03 0.03 0.04 0.04 0.05 0.05 0.06\n",
      " 0.06 0.07 0.07 0.08 0.08 0.09 0.09 0.11 0.11 0.12 0.12 0.15 0.15 0.21\n",
      " 0.21 0.23 0.23 0.25 0.25 0.28 0.28 0.29 0.29 0.3  0.3  0.31 0.31 0.32\n",
      " 0.32 0.34 0.34 0.35 0.35 0.36 0.36 0.37 0.37 0.4  0.4  0.42 0.42 0.43\n",
      " 0.43 0.46 0.46 0.49 0.49 0.5  0.5  0.51 0.51 0.54 0.54 0.55 0.55 0.57\n",
      " 0.57 0.61 0.61 0.72 0.72 0.74 0.74 0.77 0.77 0.79 0.79 0.81 0.81 0.84\n",
      " 0.84 0.87 0.87 0.89 0.89 0.92 0.92 0.94 0.94 1.  ]\n",
      "[0.   0.01 0.03 0.03 0.04 0.04 0.05 0.05 0.07 0.07 0.08 0.08 0.1  0.1\n",
      " 0.11 0.11 0.14 0.14 0.16 0.16 0.18 0.18 0.24 0.24 0.25 0.25 0.29 0.29\n",
      " 0.31 0.31 0.32 0.32 0.36 0.36 0.38 0.38 0.39 0.39 0.4  0.4  0.42 0.42\n",
      " 0.44 0.44 0.45 0.45 0.47 0.47 0.49 0.49 0.54 0.54 0.58 0.58 0.6  0.6\n",
      " 0.61 0.61 0.62 0.62 0.63 0.63 0.64 0.64 0.65 0.65 0.66 0.66 0.69 0.69\n",
      " 0.71 0.71 0.74 0.74 0.76 0.76 0.77 0.77 0.78 0.78 0.82 0.82 0.84 0.84\n",
      " 0.86 0.86 0.87 0.87 0.88 0.88 0.9  0.9  0.91 1.  ]\n",
      "[4.6191554e+00 3.6191554e+00 3.0461273e+00 2.9893024e+00 2.8929994e+00\n",
      " 2.7469115e+00 2.6616437e+00 2.5368834e+00 2.4160628e+00 2.3059483e+00\n",
      " 2.2890847e+00 2.2508595e+00 2.1807578e+00 2.1670821e+00 2.0483086e+00\n",
      " 1.9584122e+00 1.8327949e+00 1.6839097e+00 1.6671184e+00 1.5996977e+00\n",
      " 1.5969269e+00 1.5657681e+00 1.3915069e+00 1.3788257e+00 1.3221931e+00\n",
      " 1.2610710e+00 1.2328767e+00 1.1515517e+00 1.1399622e+00 1.1058031e+00\n",
      " 1.0767705e+00 1.0702131e+00 9.6812439e-01 8.8643897e-01 8.8219404e-01\n",
      " 8.2668775e-01 7.7486748e-01 7.5692916e-01 7.4665272e-01 7.4394530e-01\n",
      " 7.2531396e-01 7.1303648e-01 7.0357639e-01 6.8570536e-01 6.6804957e-01\n",
      " 6.4579761e-01 6.3202685e-01 6.3189739e-01 6.1957479e-01 6.0813582e-01\n",
      " 5.6516415e-01 5.5083406e-01 5.3220016e-01 5.2072358e-01 5.1814789e-01\n",
      " 5.1314628e-01 5.1220095e-01 4.9659830e-01 4.9529991e-01 4.6427837e-01\n",
      " 4.6421334e-01 4.4500202e-01 4.4260609e-01 4.4186178e-01 4.3583468e-01\n",
      " 4.2448744e-01 4.2194280e-01 4.1560572e-01 4.0965354e-01 3.9262733e-01\n",
      " 3.6594036e-01 3.4334132e-01 3.2106209e-01 2.2902064e-01 1.9127512e-01\n",
      " 1.7029692e-01 1.6514717e-01 1.5737441e-01 1.4611717e-01 1.4105643e-01\n",
      " 1.3398863e-01 1.2083540e-01 1.1418881e-01 9.1942675e-02 7.3628373e-02\n",
      " 4.9250647e-02 4.5155842e-02 3.8847048e-02 3.1266857e-02 2.0774400e-02\n",
      " 1.6969468e-02 3.8698388e-03 1.4594080e-03 0.0000000e+00]\n"
     ]
    },
    {
     "data": {
      "image/png": "[encoded data removed]",
      "text/plain": [
       "<Figure size 432x288 with 1 Axes>"
      ]
     },
     "metadata": {
      "needs_background": "light"
     },
     "output_type": "display_data"
    }
   ],
   "source": [
    "from matplotlib import pyplot as plt\n",
    "from sklearn.metrics import RocCurveDisplay, roc_curve\n",
    "\n",
    "fpr, tpr, thresholds = roc_curve(\n",
    "    np.concatenate((np.ones(len(dist_train)), np.zeros(len(dist_test)))),\n",
    "    dist_train + dist_test\n",
    ")\n",
    "print(fpr)\n",
    "print(tpr)\n",
    "print(thresholds)\n",
    "\n",
    "RocCurveDisplay.from_predictions(\n",
    "    np.concatenate((np.ones(len(dist_train)), np.zeros(len(dist_test)))),\n",
    "    dist_train + dist_test\n",
    ")\n",
    "plt.title(f'{dataset} - {algorithm}')\n",
    "plt.xlabel(\"False Positive Rate\")\n",
    "plt.ylabel(\"True Positive Rate\")\n",
    "plt.show()"
   ]
  },
  {
   "cell_type": "markdown",
   "id": "2b9fb99d",
   "metadata": {},
   "source": [
    "### 7. Measure the Statistical Relationship between Distance to Decision Boundary and Confidence Scores"
   ]
  },
  {
   "cell_type": "code",
   "execution_count": 8,
   "id": "f716661b",
   "metadata": {},
   "outputs": [
    {
     "name": "stdout",
     "output_type": "stream",
     "text": [
      "train correlation  0.5688771984193932 6.619936931115518e-10\n",
      "test correlation  0.31259693795496646 0.0015432959663953549\n"
     ]
    }
   ],
   "source": [
    "from scipy.stats.stats import pearsonr\n",
    "import scipy\n",
    "\n",
    "confidence_train = [np.amax(scipy.special.softmax(p)) for p in art_classifier.predict(x_target_train[train_idx])]\n",
    "confidence_test = [np.amax(scipy.special.softmax(p)) for p in art_classifier.predict(x_target_test[test_idx])]\n",
    "\n",
    "corr, pvalue = pearsonr(confidence_train, dist_train)\n",
    "print(\"train correlation \", corr, pvalue)\n",
    "corr, pvalue = pearsonr(confidence_test, dist_test)\n",
    "print(\"test correlation \", corr, pvalue)"
   ]
  }
 ],
 "metadata": {
  "kernelspec": {
   "display_name": "Python 3 (ipykernel)",
   "language": "python",
   "name": "python3"
  },
  "language_info": {
   "codemirror_mode": {
    "name": "ipython",
    "version": 3
   },
   "file_extension": ".py",
   "mimetype": "text/x-python",
   "name": "python",
   "nbconvert_exporter": "python",
   "pygments_lexer": "ipython3",
   "version": "3.8.11"
  }
 },
 "nbformat": 4,
 "nbformat_minor": 5
}
