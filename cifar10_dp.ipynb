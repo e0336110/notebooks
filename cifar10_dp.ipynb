{
 "cells": [
  {
   "cell_type": "code",
   "execution_count": 1,
   "id": "88c2bbbe",
   "metadata": {},
   "outputs": [],
   "source": [
    "dataset = \"cifar10\"\n",
    "algorithm = \"differential privacy\""
   ]
  },
  {
   "cell_type": "markdown",
   "id": "e0665ea7",
   "metadata": {},
   "source": [
    "### 1. Load Dataset"
   ]
  },
  {
   "cell_type": "code",
   "execution_count": 2,
   "id": "32e937f1",
   "metadata": {},
   "outputs": [],
   "source": [
    "from art.utils import load_cifar10\n",
    "import numpy as np\n",
    "\n",
    "(_x1, _y1), (_x2, _y2), _min, _max = load_cifar10()\n",
    "x = np.concatenate((_x1, _x2))\n",
    "y = np.concatenate((_y1, _y2))\n",
    "\n",
    "# Swap axes to PyTorch's NCHW format\n",
    "x = np.transpose(x, (0, 3, 1, 2)).astype(np.float32)\n",
    "\n",
    "target_train_size = 2500\n",
    "target_test_size = 2500\n",
    "x_target_train = x[:target_train_size]\n",
    "y_target_train = y[:target_train_size]\n",
    "x_target_test = x[target_train_size:target_train_size+target_test_size]\n",
    "y_target_test = y[target_train_size:target_train_size+target_test_size]"
   ]
  },
  {
   "cell_type": "markdown",
   "id": "0dfa1313",
   "metadata": {},
   "source": [
    "### 2. Define Target Model"
   ]
  },
  {
   "cell_type": "code",
   "execution_count": 3,
   "id": "df7910fd",
   "metadata": {},
   "outputs": [
    {
     "name": "stdout",
     "output_type": "stream",
     "text": [
      "----------------------------------------------------------------\n",
      "        Layer (type)               Output Shape         Param #\n",
      "================================================================\n",
      "            Conv2d-1           [-1, 16, 16, 16]             784\n",
      "              ReLU-2           [-1, 16, 16, 16]               0\n",
      "            Conv2d-3             [-1, 32, 8, 8]           8,224\n",
      "              ReLU-4             [-1, 32, 8, 8]               0\n",
      "           Flatten-5                 [-1, 2048]               0\n",
      "            Linear-6                  [-1, 100]         204,900\n",
      "              ReLU-7                  [-1, 100]               0\n",
      "            Linear-8                   [-1, 10]           1,010\n",
      "================================================================\n",
      "Total params: 214,918\n",
      "Trainable params: 214,918\n",
      "Non-trainable params: 0\n",
      "----------------------------------------------------------------\n",
      "Input size (MB): 0.01\n",
      "Forward/backward pass size (MB): 0.11\n",
      "Params size (MB): 0.82\n",
      "Estimated Total Size (MB): 0.94\n",
      "----------------------------------------------------------------\n"
     ]
    }
   ],
   "source": [
    "from torch import nn\n",
    "from torchsummary import summary\n",
    "import math\n",
    "\n",
    "def cifar_model(): \n",
    "    model = nn.Sequential(\n",
    "        nn.Conv2d(3, 16, 4, stride=2, padding=1),\n",
    "        nn.ReLU(),\n",
    "        nn.Conv2d(16, 32, 4, stride=2, padding=1),\n",
    "        nn.ReLU(),\n",
    "        nn.Flatten(),\n",
    "        nn.Linear(32*8*8,100),\n",
    "        nn.ReLU(),\n",
    "        nn.Linear(100, 10)\n",
    "    )\n",
    "    for m in model.modules():\n",
    "        if isinstance(m, nn.Conv2d):\n",
    "            n = m.kernel_size[0] * m.kernel_size[1] * m.out_channels\n",
    "            m.weight.data.normal_(0, math.sqrt(2. / n))\n",
    "            m.bias.data.zero_()\n",
    "    return model\n",
    "\n",
    "summary(cifar_model(), input_size=x_target_train[0].shape)"
   ]
  },
  {
   "cell_type": "markdown",
   "id": "66db6326",
   "metadata": {},
   "source": [
    "### 3. Train Target Model"
   ]
  },
  {
   "cell_type": "code",
   "execution_count": 4,
   "id": "914176d6",
   "metadata": {},
   "outputs": [
    {
     "name": "stderr",
     "output_type": "stream",
     "text": [
      "/opt/homebrew/Caskroom/miniconda/base/lib/python3.8/site-packages/opacus/privacy_engine.py:100: UserWarning: Secure RNG turned off. This is perfectly fine for experimentation as it allows for much faster training performance, but remember to turn it on and retrain one last time before production with ``secure_mode`` turned on.\n",
      "  warnings.warn(\n",
      "  0%|          | 0/100 [00:00<?, ?it/s]/opt/homebrew/Caskroom/miniconda/base/lib/python3.8/site-packages/torch/nn/modules/module.py:1025: UserWarning: Using a non-full backward hook when the forward contains multiple autograd Nodes is deprecated and will be removed in future versions. This hook will be missing some grad_input. Please use register_full_backward_hook to get the documented behavior.\n",
      "  warnings.warn(\"Using a non-full backward hook when the forward contains multiple autograd Nodes \"\n",
      "100%|██████████| 100/100 [02:38<00:00,  1.58s/it]\n"
     ]
    },
    {
     "name": "stdout",
     "output_type": "stream",
     "text": [
      "Train accuracy: 0.3968\n",
      "Test accuracy: 0.3424\n"
     ]
    }
   ],
   "source": [
    "import torch\n",
    "from torch.utils.data import DataLoader\n",
    "from torch.utils.data.dataset import Dataset\n",
    "from tqdm import tqdm\n",
    "\n",
    "class PytorchDataset(Dataset):\n",
    "    def __init__(self, x, y):\n",
    "        self.x = torch.from_numpy(x)\n",
    "        self.y = torch.from_numpy(y)\n",
    "\n",
    "    def __len__(self):\n",
    "        return len(self.x)\n",
    "\n",
    "    def __getitem__(self, idx):\n",
    "        return self.x[idx], self.y[idx]\n",
    "\n",
    "def train(dataloader, model, loss_fn, optimizer):\n",
    "    for batch, (i_batch, o_batch) in enumerate(dataloader):\n",
    "        optimizer.zero_grad()\n",
    "        model_outputs = model(i_batch)\n",
    "        loss = loss_fn(model_outputs, o_batch)\n",
    "        loss.backward()\n",
    "        optimizer.step()\n",
    "\n",
    "def get_acc(model, x, y):\n",
    "    _, predictions = torch.max(model(torch.from_numpy(x)), 1)\n",
    "    acc = np.mean(predictions.detach().numpy() == np.argmax(y, axis=1))\n",
    "    return acc\n",
    "\n",
    "model = cifar_model()\n",
    "train_dataloader = DataLoader(PytorchDataset(x_target_train, y_target_train), batch_size=64, shuffle=True)\n",
    "loss_fn = nn.CrossEntropyLoss()\n",
    "optimizer = torch.optim.Adam(model.parameters())\n",
    "\n",
    "from opacus import PrivacyEngine\n",
    "privacy_engine = PrivacyEngine()\n",
    "model.train()\n",
    "model, optimizer, train_dataloader = privacy_engine.make_private(\n",
    "    module=model,\n",
    "    optimizer=optimizer,\n",
    "    data_loader=train_dataloader,\n",
    "    noise_multiplier=1.0,\n",
    "    max_grad_norm=1.0,\n",
    ")\n",
    "\n",
    "nb_epochs = 100\n",
    "best_acc = 0\n",
    "for i in tqdm(range(nb_epochs)):\n",
    "    model.train()\n",
    "    train(train_dataloader, model, loss_fn, optimizer)\n",
    "    model.eval()\n",
    "    test_acc = get_acc(model, x_target_test, y_target_test)\n",
    "    if test_acc > best_acc:\n",
    "        best_acc = test_acc\n",
    "        torch.save(model.state_dict(), f\"models/{dataset}_{algorithm}.pth\")\n",
    "\n",
    "# load best model\n",
    "# model.load_state_dict(torch.load(f\"models/{dataset}_{algorithm}.pth\"))\n",
    "model.eval()\n",
    "print(\"Train accuracy:\", get_acc(model, x_target_train, y_target_train))\n",
    "print(\"Test accuracy:\", get_acc(model, x_target_test, y_target_test))"
   ]
  },
  {
   "cell_type": "markdown",
   "id": "a049c7c1",
   "metadata": {},
   "source": [
    "### 4. Generate Adversarial Examples using HopSkipJump"
   ]
  },
  {
   "cell_type": "code",
   "execution_count": 5,
   "id": "0b921a18",
   "metadata": {},
   "outputs": [
    {
     "data": {
      "application/vnd.jupyter.widget-view+json": {
       "model_id": "d2547c9c9c074d51b2ecc5da9337105a",
       "version_major": 2,
       "version_minor": 0
      },
      "text/plain": [
       "HopSkipJump:   0%|          | 0/100 [00:00<?, ?it/s]"
      ]
     },
     "metadata": {},
     "output_type": "display_data"
    },
    {
     "data": {
      "application/vnd.jupyter.widget-view+json": {
       "model_id": "1ff9d2a501aa4817b070baeef853a5fb",
       "version_major": 2,
       "version_minor": 0
      },
      "text/plain": [
       "HopSkipJump:   0%|          | 0/100 [00:00<?, ?it/s]"
      ]
     },
     "metadata": {},
     "output_type": "display_data"
    }
   ],
   "source": [
    "from art.attacks.evasion import HopSkipJump\n",
    "from art.estimators.classification.pytorch import PyTorchClassifier\n",
    "from numpy.random import choice\n",
    "\n",
    "art_classifier=PyTorchClassifier(\n",
    "    model=model,\n",
    "    clip_values=(_min, _max),\n",
    "    loss=loss_fn,\n",
    "    optimizer=optimizer,\n",
    "    input_shape=(3, 32, 32),\n",
    "    nb_classes=10,\n",
    ")\n",
    "attack = HopSkipJump(classifier=art_classifier, norm=2, targeted=False)\n",
    "\n",
    "train_idx = choice(len(x_target_train), 100)\n",
    "y_adv_train = y_target_train[train_idx]\n",
    "x_adv_train = attack.generate(x=x_target_train[train_idx], y=y_adv_train)\n",
    "\n",
    "test_idx = choice(len(x_target_test), 100)\n",
    "y_adv_test = y_target_test[test_idx]\n",
    "x_adv_test = attack.generate(x=x_target_test[test_idx], y=y_adv_test)"
   ]
  },
  {
   "cell_type": "markdown",
   "id": "c64326b2",
   "metadata": {},
   "source": [
    "### 5. Measure the Distribution of Distance to Decision Boundary"
   ]
  },
  {
   "cell_type": "code",
   "execution_count": 9,
   "id": "4e2a4898",
   "metadata": {},
   "outputs": [
    {
     "name": "stdout",
     "output_type": "stream",
     "text": [
      "                0\n",
      "count  100.000000\n",
      "mean     0.511222\n",
      "std      0.539305\n",
      "min      0.007092\n",
      "25%      0.130830\n",
      "50%      0.337958\n",
      "75%      0.682972\n",
      "max      2.642291\n",
      "                0\n",
      "count  100.000000\n",
      "mean     0.470573\n",
      "std      0.480055\n",
      "min      0.001861\n",
      "25%      0.132531\n",
      "50%      0.319721\n",
      "75%      0.683519\n",
      "max      2.616626\n"
     ]
    },
    {
     "data": {
      "image/png": "[encoded data removed]",
      "text/plain": [
       "<Figure size 432x288 with 1 Axes>"
      ]
     },
     "metadata": {
      "needs_background": "light"
     },
     "output_type": "display_data"
    }
   ],
   "source": [
    "from matplotlib import pyplot as plt\n",
    "import pandas as pd\n",
    "\n",
    "def dist(x, x_adv):\n",
    "    return np.linalg.norm(np.reshape(x_adv - x, [-1]))\n",
    "\n",
    "dist_train = [dist(x, xa) for (x, xa) in zip(x_target_train[train_idx], x_adv_train)]\n",
    "dist_test = [dist(x, xa) for (x, xa) in zip(x_target_test[test_idx], x_adv_test)]\n",
    "print(pd.DataFrame(np.array(dist_train)).describe())\n",
    "print(pd.DataFrame(np.array(dist_test)).describe())\n",
    "\n",
    "bins = [0, 0.25, 0.5, 0.75, 1.0, 1.25, 1.5, 1.75, 2, 2.25, 2.5, 2.75, 3, 3.25]\n",
    "\n",
    "plt.hist(dist_train, bins, alpha=0.5, label='member')\n",
    "plt.hist(dist_test, bins, alpha=0.5, label='non-member')\n",
    "plt.legend(loc='upper right')\n",
    "plt.title(f'{dataset} - {algorithm}')\n",
    "plt.xlabel(\"Distance to Decision Boundary in L2 Norm\")\n",
    "plt.ylabel(\"Frequency\")\n",
    "plt.show()"
   ]
  },
  {
   "cell_type": "markdown",
   "id": "fba80423",
   "metadata": {},
   "source": [
    "### 6. Measure the Advantage of An Adversary in Label-Only Membership Inference Attacks"
   ]
  },
  {
   "cell_type": "code",
   "execution_count": 10,
   "id": "ed0254bc",
   "metadata": {},
   "outputs": [
    {
     "name": "stdout",
     "output_type": "stream",
     "text": [
      "[0.   0.   0.01 0.01 0.02 0.02 0.03 0.03 0.04 0.04 0.05 0.05 0.08 0.08\n",
      " 0.11 0.11 0.13 0.13 0.14 0.14 0.16 0.16 0.17 0.17 0.2  0.2  0.25 0.25\n",
      " 0.27 0.27 0.28 0.28 0.31 0.31 0.35 0.35 0.37 0.37 0.39 0.39 0.41 0.41\n",
      " 0.43 0.43 0.45 0.45 0.47 0.47 0.49 0.49 0.5  0.5  0.51 0.51 0.53 0.53\n",
      " 0.55 0.55 0.6  0.6  0.64 0.64 0.65 0.65 0.68 0.68 0.69 0.69 0.7  0.7\n",
      " 0.71 0.71 0.72 0.72 0.75 0.75 0.78 0.78 0.79 0.79 0.8  0.8  0.83 0.83\n",
      " 0.84 0.84 0.85 0.85 0.86 0.86 0.87 0.87 0.89 0.89 0.9  0.9  0.92 0.92\n",
      " 0.93 0.93 0.94 0.94 0.98 0.98 1.  ]\n",
      "[0.   0.01 0.01 0.02 0.02 0.03 0.03 0.06 0.06 0.07 0.07 0.1  0.1  0.14\n",
      " 0.14 0.17 0.17 0.18 0.18 0.19 0.19 0.22 0.22 0.23 0.23 0.24 0.24 0.26\n",
      " 0.26 0.3  0.3  0.31 0.31 0.33 0.33 0.36 0.36 0.38 0.38 0.39 0.39 0.4\n",
      " 0.4  0.44 0.44 0.45 0.45 0.48 0.48 0.51 0.51 0.54 0.54 0.55 0.55 0.56\n",
      " 0.56 0.57 0.57 0.59 0.59 0.62 0.62 0.64 0.64 0.66 0.66 0.67 0.67 0.68\n",
      " 0.68 0.71 0.71 0.74 0.74 0.76 0.76 0.77 0.77 0.78 0.78 0.82 0.82 0.83\n",
      " 0.83 0.84 0.84 0.86 0.86 0.88 0.88 0.89 0.89 0.91 0.91 0.93 0.93 0.94\n",
      " 0.94 0.96 0.96 0.97 0.97 1.   1.  ]\n",
      "[3.64229131e+00 2.64229131e+00 2.61662555e+00 2.52234077e+00\n",
      " 2.32422805e+00 2.04164696e+00 1.67148232e+00 1.51445472e+00\n",
      " 1.46554410e+00 1.41612482e+00 1.38075948e+00 1.28230286e+00\n",
      " 1.23045611e+00 1.15871191e+00 1.09085560e+00 1.07672489e+00\n",
      " 1.06586015e+00 1.02240121e+00 1.01867747e+00 1.00070047e+00\n",
      " 9.71071720e-01 8.99222851e-01 8.79591882e-01 8.26643407e-01\n",
      " 7.65933216e-01 7.40810215e-01 6.94637597e-01 6.80524707e-01\n",
      " 6.66485429e-01 6.58850074e-01 6.43342316e-01 6.13623500e-01\n",
      " 5.84679186e-01 5.50301313e-01 5.15465856e-01 4.93226886e-01\n",
      " 4.68932539e-01 4.32467222e-01 4.17793483e-01 4.14660990e-01\n",
      " 4.12448287e-01 4.10659820e-01 4.02978867e-01 3.85590196e-01\n",
      " 3.64762545e-01 3.64482254e-01 3.56963068e-01 3.43013972e-01\n",
      " 3.39286923e-01 3.37805390e-01 3.30774844e-01 3.14780772e-01\n",
      " 3.08666170e-01 2.87865460e-01 2.84002453e-01 2.75284618e-01\n",
      " 2.67208189e-01 2.57650584e-01 2.40850404e-01 2.31211707e-01\n",
      " 2.12115720e-01 1.93528503e-01 1.93236500e-01 1.86220407e-01\n",
      " 1.79594979e-01 1.74816057e-01 1.74469426e-01 1.72709987e-01\n",
      " 1.72100037e-01 1.70630440e-01 1.65821865e-01 1.47665024e-01\n",
      " 1.46843225e-01 1.43271178e-01 1.34210721e-01 1.29746437e-01\n",
      " 1.16109036e-01 1.14602529e-01 1.13382034e-01 1.12647146e-01\n",
      " 1.10473134e-01 9.70583707e-02 9.11291465e-02 8.90201330e-02\n",
      " 8.82349610e-02 8.68743062e-02 8.59528258e-02 8.21575075e-02\n",
      " 7.70183951e-02 7.53144771e-02 7.33358338e-02 7.21101761e-02\n",
      " 6.01188056e-02 5.12496345e-02 4.81175892e-02 4.33669649e-02\n",
      " 3.06162499e-02 2.90812962e-02 2.59368457e-02 2.53144428e-02\n",
      " 2.46689487e-02 2.21135505e-02 8.64638668e-03 7.09196785e-03\n",
      " 1.86123827e-03]\n"
     ]
    },
    {
     "data": {
      "image/png": "[encoded data removed]",
      "text/plain": [
       "<Figure size 432x288 with 1 Axes>"
      ]
     },
     "metadata": {
      "needs_background": "light"
     },
     "output_type": "display_data"
    }
   ],
   "source": [
    "from matplotlib import pyplot as plt\n",
    "from sklearn.metrics import RocCurveDisplay, roc_curve\n",
    "\n",
    "fpr, tpr, thresholds = roc_curve(\n",
    "    np.concatenate((np.ones(len(dist_train)), np.zeros(len(dist_test)))),\n",
    "    dist_train + dist_test\n",
    ")\n",
    "print(fpr)\n",
    "print(tpr)\n",
    "print(thresholds)\n",
    "\n",
    "RocCurveDisplay.from_predictions(\n",
    "    np.concatenate((np.ones(len(dist_train)), np.zeros(len(dist_test)))),\n",
    "    dist_train + dist_test\n",
    ")\n",
    "plt.title(f'{dataset} - {algorithm}')\n",
    "plt.xlabel(\"False Positive Rate\")\n",
    "plt.ylabel(\"True Positive Rate\")\n",
    "plt.show()"
   ]
  },
  {
   "cell_type": "markdown",
   "id": "2b9fb99d",
   "metadata": {},
   "source": [
    "### 7. Measure the Statistical Relationship between Distance to Decision Boundary and Confidence Scores"
   ]
  },
  {
   "cell_type": "code",
   "execution_count": 8,
   "id": "a2d563cf",
   "metadata": {},
   "outputs": [
    {
     "name": "stdout",
     "output_type": "stream",
     "text": [
      "train correlation  0.8175262560081672 3.191248493217951e-25\n",
      "test correlation  0.8282515612209613 2.1607252813305053e-26\n"
     ]
    }
   ],
   "source": [
    "from scipy.stats.stats import pearsonr\n",
    "import scipy\n",
    "\n",
    "confidence_train = [np.amax(scipy.special.softmax(p)) for p in art_classifier.predict(x_target_train[train_idx])]\n",
    "confidence_test = [np.amax(scipy.special.softmax(p)) for p in art_classifier.predict(x_target_test[test_idx])]\n",
    "\n",
    "corr, pvalue = pearsonr(confidence_train, dist_train)\n",
    "print(\"train correlation \", corr, pvalue)\n",
    "corr, pvalue = pearsonr(confidence_test, dist_test)\n",
    "print(\"test correlation \", corr, pvalue)"
   ]
  }
 ],
 "metadata": {
  "kernelspec": {
   "display_name": "Python 3 (ipykernel)",
   "language": "python",
   "name": "python3"
  },
  "language_info": {
   "codemirror_mode": {
    "name": "ipython",
    "version": 3
   },
   "file_extension": ".py",
   "mimetype": "text/x-python",
   "name": "python",
   "nbconvert_exporter": "python",
   "pygments_lexer": "ipython3",
   "version": "3.8.11"
  }
 },
 "nbformat": 4,
 "nbformat_minor": 5
}
