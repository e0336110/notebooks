{
 "cells": [
  {
   "cell_type": "code",
   "execution_count": 1,
   "id": "88c2bbbe",
   "metadata": {},
   "outputs": [],
   "source": [
    "dataset = \"purchase100\"\n",
    "algorithm = \"TRADES\""
   ]
  },
  {
   "cell_type": "markdown",
   "id": "e0665ea7",
   "metadata": {},
   "source": [
    "### 1. Load Dataset"
   ]
  },
  {
   "cell_type": "code",
   "execution_count": 2,
   "id": "32e937f1",
   "metadata": {},
   "outputs": [],
   "source": [
    "import numpy as np \n",
    "from art.utils import to_categorical\n",
    "\n",
    "x = []\n",
    "y = []\n",
    "\n",
    "with open(\"data/dataset_purchase\", \"r\") as f:\n",
    "    for datapoint in f.readlines(): \n",
    "        split = datapoint.rstrip().split(\",\")\n",
    "        label = int(split[0]) - 1\n",
    "        x.append([int(s) for s in split[1:]])\n",
    "        y.append(label)\n",
    "\n",
    "x = np.array(x).astype(np.float32)\n",
    "y = to_categorical(np.array(y), 100)\n",
    "\n",
    "target_train_size = 10000\n",
    "target_test_size = 10000\n",
    "x_target_train = x[:target_train_size]\n",
    "y_target_train = y[:target_train_size]\n",
    "x_target_test = x[target_train_size:target_train_size+target_test_size]\n",
    "y_target_test = y[target_train_size:target_train_size+target_test_size]"
   ]
  },
  {
   "cell_type": "markdown",
   "id": "0dfa1313",
   "metadata": {},
   "source": [
    "### 2. Define Target Model"
   ]
  },
  {
   "cell_type": "code",
   "execution_count": 3,
   "id": "df7910fd",
   "metadata": {},
   "outputs": [
    {
     "name": "stdout",
     "output_type": "stream",
     "text": [
      "----------------------------------------------------------------\n",
      "        Layer (type)               Output Shape         Param #\n",
      "================================================================\n",
      "            Linear-1                  [-1, 128]          76,928\n",
      "              ReLU-2                  [-1, 128]               0\n",
      "            Linear-3                  [-1, 100]          12,900\n",
      "================================================================\n",
      "Total params: 89,828\n",
      "Trainable params: 89,828\n",
      "Non-trainable params: 0\n",
      "----------------------------------------------------------------\n",
      "Input size (MB): 0.00\n",
      "Forward/backward pass size (MB): 0.00\n",
      "Params size (MB): 0.34\n",
      "Estimated Total Size (MB): 0.35\n",
      "----------------------------------------------------------------\n"
     ]
    }
   ],
   "source": [
    "from torch import nn\n",
    "from torchsummary import summary\n",
    "import math\n",
    "\n",
    "def purchase_model(): \n",
    "    model = nn.Sequential(            \n",
    "        nn.Linear(600, 128),\n",
    "        nn.ReLU(),\n",
    "        nn.Linear(128, 100)\n",
    "    )\n",
    "    return model\n",
    "\n",
    "summary(purchase_model(), input_size=x_target_train[0].shape)"
   ]
  },
  {
   "cell_type": "markdown",
   "id": "66db6326",
   "metadata": {},
   "source": [
    "### 3. Train Target Model"
   ]
  },
  {
   "cell_type": "code",
   "execution_count": 7,
   "id": "473fcb25",
   "metadata": {},
   "outputs": [],
   "source": [
    "\"\"\"\n",
    "https://raw.githubusercontent.com/yaodongyu/TRADES/master/trades.py\n",
    "ICML'19 paper \"Theoretically Principled Trade-off between Robustness and Accuracy\"\n",
    "\"\"\"\n",
    "import numpy as np\n",
    "\n",
    "import torch\n",
    "import torch.nn as nn\n",
    "import torch.nn.functional as F\n",
    "from torch.autograd import Variable\n",
    "import torch.optim as optim\n",
    "from torch.nn.modules.loss import _Loss\n",
    "\n",
    "def trades_loss(model,\n",
    "                loss_fn,\n",
    "                x_natural,\n",
    "                y,\n",
    "                optimizer,\n",
    "                norm=2,\n",
    "                step_size=0.01,\n",
    "                epsilon=0.25,\n",
    "                perturb_steps=40,\n",
    "                beta=6.0,\n",
    "                version=None,\n",
    "                device=\"cpu\"):\n",
    "    # define KL-loss\n",
    "    criterion_kl = nn.KLDivLoss(size_average=False)\n",
    "#     criterion_kl = nn.KLDivLoss(reduction='sum')\n",
    "    model.eval()\n",
    "    batch_size = len(x_natural)\n",
    "    # generate adversarial example\n",
    "    if norm == np.inf:\n",
    "        x_adv = x_natural.detach() + 0.001 * torch.randn(x_natural.shape).to(device).detach()\n",
    "        for _ in range(perturb_steps):\n",
    "            x_adv.requires_grad_()\n",
    "            with torch.enable_grad():\n",
    "                loss_kl = criterion_kl(F.log_softmax(model(x_adv), dim=1),\n",
    "                                       F.softmax(model(x_natural), dim=1))\n",
    "            grad = torch.autograd.grad(loss_kl, [x_adv])[0]\n",
    "            x_adv = x_adv.detach() + step_size * torch.sign(grad.detach())\n",
    "            x_adv = torch.min(torch.max(x_adv, x_natural - epsilon), x_natural + epsilon)\n",
    "            x_adv = torch.clamp(x_adv, 0.0, 1.0)\n",
    "    elif norm == 2:\n",
    "        delta = 0.001 * torch.randn(x_natural.shape).to(device).detach()\n",
    "        delta = Variable(delta.data, requires_grad=True)\n",
    "\n",
    "        # Setup optimizers\n",
    "        optimizer_delta = optim.SGD([delta], lr=epsilon / perturb_steps * 2)\n",
    "\n",
    "        for _ in range(perturb_steps):\n",
    "            adv = x_natural + delta\n",
    "\n",
    "            # optimize\n",
    "            optimizer_delta.zero_grad()\n",
    "            with torch.enable_grad():\n",
    "                loss = (-1) * criterion_kl(F.log_softmax(model(adv), dim=1),\n",
    "                                           F.softmax(model(x_natural), dim=1))\n",
    "            loss.backward()\n",
    "            # renorming gradient\n",
    "            grad_norms = delta.grad.view(batch_size, -1).norm(p=2, dim=1)\n",
    "            delta.grad.div_(grad_norms.view(-1, 1))\n",
    "            # avoid nan or inf if gradient is 0\n",
    "            if (grad_norms == 0).any():\n",
    "                delta.grad[grad_norms == 0] = torch.randn_like(delta.grad[grad_norms == 0])\n",
    "            optimizer_delta.step()\n",
    "\n",
    "            # projection\n",
    "            delta.data.add_(x_natural)\n",
    "            delta.data.clamp_(0, 1).sub_(x_natural)\n",
    "            delta.data.renorm_(p=2, dim=0, maxnorm=epsilon)\n",
    "        x_adv = Variable(x_natural + delta, requires_grad=False)\n",
    "    else:\n",
    "        x_adv = torch.clamp(x_adv, 0.0, 1.0)\n",
    "    model.train()\n",
    "\n",
    "    x_adv = Variable(torch.clamp(x_adv, 0.0, 1.0), requires_grad=False)\n",
    "    # zero gradient\n",
    "    optimizer.zero_grad()\n",
    "    # calculate robust loss\n",
    "    outputs = model(x_natural)\n",
    "    loss_natural = loss_fn(outputs, y)\n",
    "    loss_robust = (1.0 / batch_size) * criterion_kl(F.log_softmax(model(x_adv), dim=1),\n",
    "                                                    F.softmax(model(x_natural), dim=1))\n",
    "    if version is not None and \"sum\" in version:\n",
    "        loss = loss_natural + beta * batch_size * loss_robust\n",
    "    else:\n",
    "        loss = loss_natural + beta * loss_robust\n",
    "    return outputs, loss"
   ]
  },
  {
   "cell_type": "code",
   "execution_count": 8,
   "id": "914176d6",
   "metadata": {},
   "outputs": [
    {
     "name": "stderr",
     "output_type": "stream",
     "text": [
      "100%|██████████| 100/100 [12:55<00:00,  7.76s/it]"
     ]
    },
    {
     "name": "stdout",
     "output_type": "stream",
     "text": [
      "Train accuracy: 1.0\n",
      "Test accuracy: 0.658\n"
     ]
    },
    {
     "name": "stderr",
     "output_type": "stream",
     "text": [
      "\n"
     ]
    }
   ],
   "source": [
    "import torch\n",
    "from torch.utils.data import DataLoader\n",
    "from torch.utils.data.dataset import Dataset\n",
    "from tqdm import tqdm\n",
    "\n",
    "class PytorchDataset(Dataset):\n",
    "    def __init__(self, x, y):\n",
    "        self.x = torch.from_numpy(x)\n",
    "        self.y = torch.from_numpy(y)\n",
    "\n",
    "    def __len__(self):\n",
    "        return len(self.x)\n",
    "\n",
    "    def __getitem__(self, idx):\n",
    "        return self.x[idx], self.y[idx]\n",
    "\n",
    "def train(dataloader, model, loss_fn, optimizer):\n",
    "    for batch, (i_batch, o_batch) in enumerate(dataloader):\n",
    "        optimizer.zero_grad()\n",
    "        (_, loss) = trades_loss(model, loss_fn, i_batch, o_batch, optimizer=optimizer)\n",
    "        loss.backward()\n",
    "        optimizer.step()\n",
    "\n",
    "def get_acc(model, x, y):\n",
    "    _, predictions = torch.max(model(torch.from_numpy(x)), 1)\n",
    "    acc = np.mean(predictions.detach().numpy() == np.argmax(y, axis=1))\n",
    "    return acc\n",
    "\n",
    "model = purchase_model()\n",
    "train_dataloader = DataLoader(PytorchDataset(x_target_train, y_target_train), batch_size=64, shuffle=True)\n",
    "loss_fn = nn.CrossEntropyLoss()\n",
    "optimizer = torch.optim.Adam(model.parameters())\n",
    "\n",
    "nb_epochs = 100\n",
    "best_acc = 0\n",
    "for i in tqdm(range(nb_epochs)):\n",
    "    model.train()\n",
    "    train(train_dataloader, model, loss_fn, optimizer)\n",
    "    model.eval()\n",
    "    test_acc = get_acc(model, x_target_test, y_target_test)\n",
    "    if test_acc > best_acc:\n",
    "        best_acc = test_acc\n",
    "        torch.save(model.state_dict(), f\"models/{dataset}_{algorithm}.pth\")\n",
    "\n",
    "# load best model\n",
    "# model.load_state_dict(torch.load(f\"models/{dataset}_{algorithm}.pth\"))\n",
    "model.eval()\n",
    "print(\"Train accuracy:\", get_acc(model, x_target_train, y_target_train))\n",
    "print(\"Test accuracy:\", get_acc(model, x_target_test, y_target_test))"
   ]
  },
  {
   "cell_type": "markdown",
   "id": "a049c7c1",
   "metadata": {},
   "source": [
    "### 4. Generate Adversarial Examples using HopSkipJump"
   ]
  },
  {
   "cell_type": "code",
   "execution_count": 9,
   "id": "0b921a18",
   "metadata": {},
   "outputs": [
    {
     "data": {
      "application/vnd.jupyter.widget-view+json": {
       "model_id": "e0626bcd551d4ed5bdd72ffcf6efe16f",
       "version_major": 2,
       "version_minor": 0
      },
      "text/plain": [
       "HopSkipJump:   0%|          | 0/100 [00:00<?, ?it/s]"
      ]
     },
     "metadata": {},
     "output_type": "display_data"
    },
    {
     "data": {
      "application/vnd.jupyter.widget-view+json": {
       "model_id": "8deb4c369d68486db27e25e560fcd40a",
       "version_major": 2,
       "version_minor": 0
      },
      "text/plain": [
       "HopSkipJump:   0%|          | 0/100 [00:00<?, ?it/s]"
      ]
     },
     "metadata": {},
     "output_type": "display_data"
    }
   ],
   "source": [
    "from art.attacks.evasion import HopSkipJump\n",
    "from art.estimators.classification.pytorch import PyTorchClassifier\n",
    "from numpy.random import choice\n",
    "\n",
    "art_classifier=PyTorchClassifier(\n",
    "    model=model,\n",
    "    loss=loss_fn,\n",
    "    optimizer=optimizer,\n",
    "    input_shape=x_target_train[0].shape,\n",
    "    nb_classes=100,\n",
    ")\n",
    "attack = HopSkipJump(classifier=art_classifier, norm=2, targeted=False)\n",
    "\n",
    "train_idx = choice(len(x_target_train), 100)\n",
    "y_adv_train = y_target_train[train_idx]\n",
    "x_adv_train = attack.generate(x=x_target_train[train_idx], y=y_adv_train)\n",
    "\n",
    "test_idx = choice(len(x_target_test), 100)\n",
    "y_adv_test = y_target_test[test_idx]\n",
    "x_adv_test = attack.generate(x=x_target_test[test_idx], y=y_adv_test)"
   ]
  },
  {
   "cell_type": "markdown",
   "id": "c64326b2",
   "metadata": {},
   "source": [
    "### 5. Measure the Distribution of Distance to Decision Boundary"
   ]
  },
  {
   "cell_type": "code",
   "execution_count": 10,
   "id": "4e2a4898",
   "metadata": {},
   "outputs": [
    {
     "name": "stdout",
     "output_type": "stream",
     "text": [
      "                0\n",
      "count  100.000000\n",
      "mean     1.125296\n",
      "std      0.392481\n",
      "min      0.615548\n",
      "25%      0.841970\n",
      "50%      1.015232\n",
      "75%      1.266384\n",
      "max      2.491598\n",
      "                0\n",
      "count  100.000000\n",
      "mean     0.542456\n",
      "std      0.624017\n",
      "min      0.001886\n",
      "25%      0.129686\n",
      "50%      0.332203\n",
      "75%      0.723119\n",
      "max      3.166467\n"
     ]
    },
    {
     "data": {
      "image/png": "[encoded data removed]",
      "text/plain": [
       "<Figure size 432x288 with 1 Axes>"
      ]
     },
     "metadata": {
      "needs_background": "light"
     },
     "output_type": "display_data"
    }
   ],
   "source": [
    "from matplotlib import pyplot as plt\n",
    "import pandas as pd\n",
    "\n",
    "def dist(x, x_adv):\n",
    "    return np.linalg.norm(np.reshape(x_adv - x, [-1]))\n",
    "\n",
    "dist_train = [dist(x, xa) for (x, xa) in zip(x_target_train[train_idx], x_adv_train)]\n",
    "dist_test = [dist(x, xa) for (x, xa) in zip(x_target_test[test_idx], x_adv_test)]\n",
    "print(pd.DataFrame(np.array(dist_train)).describe())\n",
    "print(pd.DataFrame(np.array(dist_test)).describe())\n",
    "\n",
    "bins = [0, 0.25, 0.5, 0.75, 1.0, 1.25, 1.5, 1.75, 2, 2.25, 2.5, 2.75, 3, 3.25]\n",
    "\n",
    "plt.hist(dist_train, bins, alpha=0.5, label='member')\n",
    "plt.hist(dist_test, bins, alpha=0.5, label='non-member')\n",
    "plt.legend(loc='upper right')\n",
    "plt.title(f'{dataset} - {algorithm}')\n",
    "plt.xlabel(\"Distance to Decision Boundary in L2 Norm\")\n",
    "plt.ylabel(\"Frequency\")\n",
    "plt.show()"
   ]
  },
  {
   "cell_type": "markdown",
   "id": "fba80423",
   "metadata": {},
   "source": [
    "### 6. Measure the Advantage of An Adversary in Label-Only Membership Inference Attacks"
   ]
  },
  {
   "cell_type": "code",
   "execution_count": 11,
   "id": "ed0254bc",
   "metadata": {},
   "outputs": [
    {
     "name": "stdout",
     "output_type": "stream",
     "text": [
      "[0.   0.01 0.03 0.03 0.06 0.06 0.07 0.07 0.08 0.08 0.1  0.1  0.11 0.11\n",
      " 0.12 0.12 0.13 0.13 0.14 0.14 0.15 0.15 0.16 0.16 0.18 0.18 0.19 0.19\n",
      " 0.2  0.2  0.21 0.21 0.22 0.22 0.23 0.23 0.24 0.24 0.25 0.25 0.26 0.26\n",
      " 0.28 0.28 0.29 0.29 0.31 0.31 1.  ]\n",
      "[0.   0.   0.   0.01 0.01 0.13 0.13 0.18 0.18 0.22 0.22 0.34 0.34 0.37\n",
      " 0.37 0.38 0.38 0.52 0.52 0.53 0.53 0.55 0.55 0.58 0.58 0.62 0.62 0.65\n",
      " 0.65 0.72 0.72 0.79 0.79 0.8  0.8  0.81 0.81 0.82 0.82 0.93 0.93 0.97\n",
      " 0.97 0.98 0.98 0.99 0.99 1.   1.  ]\n",
      "[4.1664667e+00 3.1664670e+00 2.4969673e+00 2.4915981e+00 2.1518004e+00\n",
      " 1.6317118e+00 1.6298982e+00 1.5257028e+00 1.5181261e+00 1.3847854e+00\n",
      " 1.3201884e+00 1.2150100e+00 1.2124689e+00 1.1416769e+00 1.1319472e+00\n",
      " 1.1226978e+00 1.0994530e+00 1.0099338e+00 1.0047457e+00 9.9927115e-01\n",
      " 9.7717136e-01 9.6994108e-01 9.6984446e-01 9.6156317e-01 9.5704710e-01\n",
      " 9.2280340e-01 9.2014992e-01 9.0265054e-01 9.0033948e-01 8.4834278e-01\n",
      " 8.4820765e-01 8.1679451e-01 8.0038708e-01 7.9405767e-01 7.9237336e-01\n",
      " 7.9171693e-01 7.8995615e-01 7.8843534e-01 7.8605318e-01 7.1380287e-01\n",
      " 7.0214128e-01 6.7687154e-01 6.7445976e-01 6.6418445e-01 6.6376233e-01\n",
      " 6.5580523e-01 6.3264018e-01 6.1554843e-01 1.8862527e-03]\n"
     ]
    },
    {
     "data": {
      "image/png": "[encoded data removed]",
      "text/plain": [
       "<Figure size 432x288 with 1 Axes>"
      ]
     },
     "metadata": {
      "needs_background": "light"
     },
     "output_type": "display_data"
    }
   ],
   "source": [
    "from matplotlib import pyplot as plt\n",
    "from sklearn.metrics import RocCurveDisplay, roc_curve\n",
    "\n",
    "fpr, tpr, thresholds = roc_curve(\n",
    "    np.concatenate((np.ones(len(dist_train)), np.zeros(len(dist_test)))),\n",
    "    dist_train + dist_test\n",
    ")\n",
    "print(fpr)\n",
    "print(tpr)\n",
    "print(thresholds)\n",
    "\n",
    "RocCurveDisplay.from_predictions(\n",
    "    np.concatenate((np.ones(len(dist_train)), np.zeros(len(dist_test)))),\n",
    "    dist_train + dist_test\n",
    ")\n",
    "plt.title(f'{dataset} - {algorithm}')\n",
    "plt.xlabel(\"False Positive Rate\")\n",
    "plt.ylabel(\"True Positive Rate\")\n",
    "plt.show()"
   ]
  },
  {
   "cell_type": "markdown",
   "id": "2b9fb99d",
   "metadata": {},
   "source": [
    "### 7. Measure the Statistical Relationship between Distance to Decision Boundary and Confidence Scores"
   ]
  },
  {
   "cell_type": "code",
   "execution_count": 12,
   "id": "a2d563cf",
   "metadata": {},
   "outputs": [
    {
     "name": "stdout",
     "output_type": "stream",
     "text": [
      "train correlation  0.017373472861253698 0.8637807949523127\n",
      "test correlation  0.5392093643880025 7.123629313979777e-09\n"
     ]
    }
   ],
   "source": [
    "from scipy.stats.stats import pearsonr\n",
    "import scipy\n",
    "\n",
    "confidence_train = [np.amax(scipy.special.softmax(p)) for p in art_classifier.predict(x_target_train[train_idx])]\n",
    "confidence_test = [np.amax(scipy.special.softmax(p)) for p in art_classifier.predict(x_target_test[test_idx])]\n",
    "\n",
    "corr, pvalue = pearsonr(confidence_train, dist_train)\n",
    "print(\"train correlation \", corr, pvalue)\n",
    "corr, pvalue = pearsonr(confidence_test, dist_test)\n",
    "print(\"test correlation \", corr, pvalue)"
   ]
  }
 ],
 "metadata": {
  "kernelspec": {
   "display_name": "Python 3 (ipykernel)",
   "language": "python",
   "name": "python3"
  },
  "language_info": {
   "codemirror_mode": {
    "name": "ipython",
    "version": 3
   },
   "file_extension": ".py",
   "mimetype": "text/x-python",
   "name": "python",
   "nbconvert_exporter": "python",
   "pygments_lexer": "ipython3",
   "version": "3.8.11"
  }
 },
 "nbformat": 4,
 "nbformat_minor": 5
}
